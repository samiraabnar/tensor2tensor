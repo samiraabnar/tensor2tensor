{
 "cells": [
  {
   "cell_type": "code",
   "execution_count": 2,
   "metadata": {},
   "outputs": [
    {
     "name": "stderr",
     "output_type": "stream",
     "text": [
      "WARNING: Logging before flag parsing goes to stderr.\n",
      "W0627 14:08:25.631115 4626744768 lazy_loader.py:50] \n",
      "The TensorFlow contrib module will not be included in TensorFlow 2.0.\n",
      "For more information, please see:\n",
      "  * https://github.com/tensorflow/community/blob/master/rfcs/20180907-contrib-sunset.md\n",
      "  * https://github.com/tensorflow/addons\n",
      "  * https://github.com/tensorflow/io (for I/O related ops)\n",
      "If you depend on functionality not listed there, please file an issue.\n",
      "\n",
      "W0627 14:08:27.883018 4626744768 deprecation_wrapper.py:119] From /Users/samiraabnar/Codes/tensor2tensor/tensor2tensor/utils/expert_utils.py:68: The name tf.variable_scope is deprecated. Please use tf.compat.v1.variable_scope instead.\n",
      "\n",
      "W0627 14:08:31.274685 4626744768 deprecation_wrapper.py:119] From /Users/samiraabnar/Codes/tensor2tensor/tensor2tensor/rl/gym_utils.py:235: The name tf.logging.info is deprecated. Please use tf.compat.v1.logging.info instead.\n",
      "\n",
      "W0627 14:08:31.311038 4626744768 deprecation_wrapper.py:119] From /Users/samiraabnar/Codes/tensor2tensor/tensor2tensor/utils/metrics_hook.py:28: The name tf.train.SessionRunHook is deprecated. Please use tf.estimator.SessionRunHook instead.\n",
      "\n",
      "W0627 14:08:31.319458 4626744768 deprecation_wrapper.py:119] From /Users/samiraabnar/Codes/tensor2tensor/tensor2tensor/utils/adafactor.py:27: The name tf.train.Optimizer is deprecated. Please use tf.compat.v1.train.Optimizer instead.\n",
      "\n",
      "W0627 14:08:31.321478 4626744768 deprecation_wrapper.py:119] From /Users/samiraabnar/Codes/tensor2tensor/tensor2tensor/utils/multistep_optimizer.py:32: The name tf.train.AdamOptimizer is deprecated. Please use tf.compat.v1.train.AdamOptimizer instead.\n",
      "\n",
      "W0627 14:08:31.354590 4626744768 deprecation_wrapper.py:119] From /Users/samiraabnar/Codes/tensor2tensor/tensor2tensor/utils/trainer_lib.py:109: The name tf.OptimizerOptions is deprecated. Please use tf.compat.v1.OptimizerOptions instead.\n",
      "\n"
     ]
    }
   ],
   "source": [
    "# Imports we need.\n",
    "import tensorflow as tf\n",
    "import matplotlib.pyplot as plt\n",
    "import numpy as np\n",
    "import os\n",
    "import collections\n",
    "\n",
    "from tensor2tensor import problems\n",
    "from tensor2tensor.layers import common_layers\n",
    "from tensor2tensor.utils import trainer_lib\n",
    "from tensor2tensor.utils import t2t_model\n",
    "from tensor2tensor.utils import registry\n",
    "from tensor2tensor.utils import metrics\n",
    "\n",
    "import urllib\n",
    "\n",
    "# Enable TF Eager execution\n",
    "tfe = tf.contrib.eager\n",
    "tfe.enable_eager_execution()\n",
    "\n",
    "# Other setup\n",
    "Modes = tf.estimator.ModeKeys"
   ]
  },
  {
   "cell_type": "code",
   "execution_count": 2,
   "metadata": {},
   "outputs": [
    {
     "data": {
      "text/plain": [
       "('tmp/TREC_10.label', <http.client.HTTPMessage at 0x13217a4e0>)"
      ]
     },
     "execution_count": 2,
     "metadata": {},
     "output_type": "execute_result"
    }
   ],
   "source": [
    "# Link to data from GLUE: https://gluebenchmark.com/tasks\n",
    "URLS = [\n",
    "'http://cogcomp.org/Data/QA/QC/train_5500.label',\n",
    "'http://cogcomp.org/Data/QA/QC/TREC_10.label'\n",
    "]\n",
    "\n",
    "tmp_dir = \"tmp\"\n",
    "trec6_train_filename = \"train_5500.label\"\n",
    "trec6_test_filename = \"TREC_10.label\"\n",
    "trec6_finalpath = os.path.join(tmp_dir)\n",
    "\n",
    "if not os.path.isdir(trec6_finalpath):\n",
    "    os.makedirs(trec6_finalpath)\n",
    "\n",
    "# Download train\n",
    "urllib.request.urlretrieve(URLS[0], filename=os.path.join(trec6_finalpath,trec6_train_filename))\n",
    "# Download test\n",
    "urllib.request.urlretrieve(URLS[1], filename=os.path.join(trec6_finalpath, trec6_test_filename))"
   ]
  },
  {
   "cell_type": "code",
   "execution_count": 4,
   "metadata": {},
   "outputs": [
    {
     "name": "stdout",
     "output_type": "stream",
     "text": [
      "mkdir: ../data/trec6: File exists\n"
     ]
    },
    {
     "name": "stderr",
     "output_type": "stream",
     "text": [
      "W0627 14:08:37.323793 4626744768 deprecation_wrapper.py:119] From /Users/samiraabnar/Codes/tensor2tensor/tensor2tensor/data_generators/generator_utils.py:132: The name tf.gfile.Exists is deprecated. Please use tf.io.gfile.exists instead.\n",
      "\n"
     ]
    }
   ],
   "source": [
    "!mkdir ../data/trec6\n",
    "\n",
    "data_dir='../data/trec6'\n",
    "tmp_dir='../tmp/trec6'\n",
    "\n",
    "# Fetch the problem\n",
    "problem = problems.problem(\"trec6\")\n",
    "# The generate_data method of a problem will download data and process it into\n",
    "# a standard format ready for training and evaluation.\n",
    "problem.generate_data(data_dir, tmp_dir)"
   ]
  },
  {
   "cell_type": "code",
   "execution_count": 6,
   "metadata": {},
   "outputs": [],
   "source": [
    "# Get the encoders from the problem\n",
    "encoders = problem.feature_encoders(data_dir)\n",
    "\n",
    "# Setup helper functions for encoding and decoding\n",
    "def encode(input_str, output_str=None, mode=\"inputs\"):\n",
    "  \"\"\"Input str to features dict, ready for inference\"\"\"\n",
    "  inputs = encoders[mode].encode(input_str) + [1]  # add EOS id\n",
    "  batch_inputs = tf.reshape(inputs, [1, -1, 1])  # Make it 3D.\n",
    "  return {\"inputs\": batch_inputs}\n",
    "\n",
    "def decode(integers, mode=\"inputs\"):\n",
    "  \"\"\"List of ints to str\"\"\"\n",
    "#  integers = list(np.squeeze(integers))\n",
    "#  if 1 in integers:\n",
    "#    integers = integers[:integers.index(1)]\n",
    "  return encoders[mode].decode(np.squeeze(integers))\n",
    "\n"
   ]
  },
  {
   "cell_type": "code",
   "execution_count": 7,
   "metadata": {},
   "outputs": [
    {
     "name": "stdout",
     "output_type": "stream",
     "text": [
      "{'batch_prediction_key': <tf.Tensor: id=119, shape=(1,), dtype=int64, numpy=array([0])>, 'inputs': <tf.Tensor: id=120, shape=(5,), dtype=int64, numpy=array([   4,    5, 5273,    2,    1])>, 'targets': <tf.Tensor: id=121, shape=(1,), dtype=int64, numpy=array([0])>}\n",
      "input: What is leukemia ?<EOS>\n",
      "Label: DESC\n"
     ]
    }
   ],
   "source": [
    "example = tfe.Iterator(problem.dataset(Modes.EVAL, data_dir)).next()\n",
    "example_inputs = example[\"inputs\"]\n",
    "example_label = example[\"targets\"]\n",
    "\n",
    "print(example)\n",
    "print(\"input:\", decode(example_inputs, mode=\"inputs\"))\n",
    "print(\"Label: %s\" %  encoders[\"targets\"].decode(example_label))"
   ]
  },
  {
   "cell_type": "code",
   "execution_count": null,
   "metadata": {},
   "outputs": [],
   "source": []
  }
 ],
 "metadata": {
  "kernelspec": {
   "display_name": "Python 3",
   "language": "python",
   "name": "python3"
  },
  "language_info": {
   "codemirror_mode": {
    "name": "ipython",
    "version": 3
   },
   "file_extension": ".py",
   "mimetype": "text/x-python",
   "name": "python",
   "nbconvert_exporter": "python",
   "pygments_lexer": "ipython3",
   "version": "3.6.7"
  }
 },
 "nbformat": 4,
 "nbformat_minor": 2
}
