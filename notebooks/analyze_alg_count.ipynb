{
 "cells": [
  {
   "cell_type": "code",
   "execution_count": 1,
   "metadata": {},
   "outputs": [
    {
     "name": "stdout",
     "output_type": "stream",
     "text": [
      "\n",
      "WARNING: The TensorFlow contrib module will not be included in TensorFlow 2.0.\n",
      "For more information, please see:\n",
      "  * https://github.com/tensorflow/community/blob/master/rfcs/20180907-contrib-sunset.md\n",
      "  * https://github.com/tensorflow/addons\n",
      "If you depend on functionality not listed there, please file an issue.\n",
      "\n",
      "INFO:tensorflow:Entry Point [tensor2tensor.envs.tic_tac_toe_env:TicTacToeEnv] registered with id [T2TEnv-TicTacToeEnv-v0]\n"
     ]
    }
   ],
   "source": [
    "# Imports we need.\n",
    "import tensorflow as tf\n",
    "import matplotlib.pyplot as plt\n",
    "import numpy as np\n",
    "import os\n",
    "import collections\n",
    "\n",
    "from tensor2tensor import models\n",
    "from tensor2tensor import problems\n",
    "from tensor2tensor.layers import common_layers\n",
    "from tensor2tensor.utils import trainer_lib\n",
    "from tensor2tensor.utils import t2t_model\n",
    "from tensor2tensor.utils import registry\n",
    "from tensor2tensor.utils import metrics\n",
    "import matplotlib.pyplot as plt\n",
    "import matplotlib.image as mpimg\n",
    "import matplotlib as mpl\n",
    "from scipy.sparse import csr_matrix\n",
    "from scipy.sparse.csgraph import minimum_spanning_tree\n",
    "import networkx as nx\n",
    "\n",
    "%matplotlib inline  \n",
    "\n",
    "# Enable TF Eager execution\n",
    "tfe = tf.contrib.eager\n",
    "tfe.enable_eager_execution()\n",
    "\n",
    "# Other setup\n",
    "Modes = tf.estimator.ModeKeys"
   ]
  },
  {
   "cell_type": "code",
   "execution_count": 2,
   "metadata": {},
   "outputs": [
    {
     "name": "stdout",
     "output_type": "stream",
     "text": [
      "INFO:tensorflow:Skipping generator because outputs files exists at ['../data/algorithmic_count100/algorithmic_count100-train-00000-of-00010', '../data/algorithmic_count100/algorithmic_count100-train-00001-of-00010', '../data/algorithmic_count100/algorithmic_count100-train-00002-of-00010', '../data/algorithmic_count100/algorithmic_count100-train-00003-of-00010', '../data/algorithmic_count100/algorithmic_count100-train-00004-of-00010', '../data/algorithmic_count100/algorithmic_count100-train-00005-of-00010', '../data/algorithmic_count100/algorithmic_count100-train-00006-of-00010', '../data/algorithmic_count100/algorithmic_count100-train-00007-of-00010', '../data/algorithmic_count100/algorithmic_count100-train-00008-of-00010', '../data/algorithmic_count100/algorithmic_count100-train-00009-of-00010']\n",
      "INFO:tensorflow:Skipping generator because outputs files exists at ['../data/algorithmic_count100/algorithmic_count100-dev-00000-of-00001']\n"
     ]
    }
   ],
   "source": [
    "data_dir='../data/algorithmic_count100'\n",
    "tmp_dir='../tmp/algorithmic_count100'\n",
    "\n",
    "# Fetch the problem\n",
    "problem = problems.problem(\"algorithmic_count100\")\n",
    "# The generate_data method of a problem will download data and process it into\n",
    "# a standard format ready for training and evaluation.\n",
    "problem.generate_data(data_dir, tmp_dir)\n",
    "\n",
    "# Get the encoders from the problem\n",
    "encoders = problem.feature_encoders(data_dir)\n",
    "\n",
    "# Setup helper functions for encoding and decoding\n",
    "def encode(input_str, output_str=None, mode=\"inputs\"):\n",
    "  \"\"\"Input str to features dict, ready for inference\"\"\"\n",
    "  inputs = encoders[mode].encode(input_str) + [1]  # add EOS id\n",
    "  batch_inputs = tf.reshape(inputs, [1, -1, 1])  # Make it 3D.\n",
    "  return {\"inputs\": batch_inputs}\n",
    "\n",
    "def decode(integers, mode=\"inputs\"):\n",
    "  \"\"\"List of ints to str\"\"\"\n",
    "  integers = list(np.squeeze(integers))\n",
    "  if 1 in integers:\n",
    "    integers = integers[:integers.index(1)]\n",
    "  return encoders[mode].decode(np.squeeze(integers))\n",
    "\n"
   ]
  },
  {
   "cell_type": "code",
   "execution_count": 3,
   "metadata": {},
   "outputs": [
    {
     "name": "stdout",
     "output_type": "stream",
     "text": [
      "INFO:tensorflow:Unsetting shared_embedding_and_softmax_weights.\n",
      "INFO:tensorflow:Setting T2TModel mode to 'eval'\n",
      "INFO:tensorflow:Setting hparams.dropout to 0.0\n",
      "INFO:tensorflow:Setting hparams.label_smoothing to 0.0\n",
      "INFO:tensorflow:Setting hparams.layer_prepostprocess_dropout to 0.0\n",
      "INFO:tensorflow:Setting hparams.symbol_dropout to 0.0\n",
      "INFO:tensorflow:Setting hparams.attention_dropout to 0.0\n",
      "INFO:tensorflow:Setting hparams.relu_dropout to 0.0\n"
     ]
    }
   ],
   "source": [
    "#@title Create the model\n",
    "# Create hparams and the model\n",
    "model_name = \"bottomup_transformer_encoder\"\n",
    "hparams_set = \"bottomup_transformer_onlyreversed_gumbel_tiny_tall\"\n",
    "\n",
    "hparams = trainer_lib.create_hparams(hparams_set, data_dir=data_dir, problem_name=\"algorithmic_count100\")\n",
    "hparams.assignment_softmax_temp = 1.0\n",
    "hparams.assignment_softmax_temp_decay_rate = 0.5\n",
    "\n",
    "hparams.use_gumbel = True\n",
    "hparams.reset_presence_q = True\n",
    "hparams.scale_weights_with_presenc_k= True\n",
    "hparams.update_presence = True\n",
    "hparams.presence_softmax_temp = 1.0\n",
    "hparams.presence_softmax_temp_decay_rate = 0.5\n",
    "hparams.num_heads = 2\n",
    "hparams.transform_presence_logits = False\n",
    "# NOTE: Only create the model once when restoring from a checkpoint; it's a\n",
    "# Layer and so subsequent instantiations will have different variable scopes\n",
    "# that will not match the checkpoint.\n",
    "model = registry.model(model_name)(hparams, Modes.EVAL)"
   ]
  },
  {
   "cell_type": "code",
   "execution_count": 4,
   "metadata": {},
   "outputs": [],
   "source": [
    "#@title Utility functions\n",
    "from tensor2tensor.visualization import attention\n",
    "from tensor2tensor.data_generators import text_encoder\n",
    "\n",
    "SIZE = 35\n",
    "\n",
    "def encode_eval(input_str, output_str):\n",
    "  inputs = tf.reshape(encoders[\"inputs\"].encode(input_str) + [1], [1, -1, 1, 1])  # Make it 3D.\n",
    "  outputs = tf.reshape(encoders[\"inputs\"].encode(output_str) + [1], [1, -1, 1, 1])  # Make it 3D.\n",
    "  return {\"inputs\": inputs, \"targets\": outputs}\n",
    "\n",
    "def get_att_mats(model):\n",
    "  assignment_weights = []\n",
    "  weights = []\n",
    "  presence_qz = []\n",
    "  presence_qz_logits = []\n",
    "  similarieties = []\n",
    "  q_presence_mats = []\n",
    "  k_presence_mats = []\n",
    "  softmax_temps = []\n",
    "\n",
    "\n",
    "  for i in range(hparams.num_hidden_layers):\n",
    "    assignment_weight = model.attention_weights[\n",
    "      \"bottomup_transformer_encoder/body/encoder/layer_%i/self_attention/multihead_attention/bottom_up_dot_product_attention/assignment_weights\" % i]\n",
    "    weight = model.attention_weights[\n",
    "      \"bottomup_transformer_encoder/body/encoder/layer_%i/self_attention/multihead_attention/bottom_up_dot_product_attention/weights\" % i]\n",
    "    presence_q = None\n",
    "    # model.attention_weights[\"bottomup_transformer_encoder/body/encoder/layer_%i/self_attention/multihead_attention/bottom_up_dot_product_attention/q_presence_probs\" % i]\n",
    "    presence_q_logit = None\n",
    "    #model.attention_weights[\"bottomup_transformer_encoder/body/encoder/layer_%i/self_attention/multihead_attention/bottom_up_dot_product_attention/q_presence_logits\" % i]\n",
    "    \n",
    "    q_presence_mat = model.attention_weights[\n",
    "      \"bottomup_transformer_encoder/body/encoder/layer_%i/self_attention/multihead_attention/bottom_up_dot_product_attention/q_presence_mat\" % i]\n",
    "\n",
    "    k_presence_mat = model.attention_weights[\n",
    "      \"bottomup_transformer_encoder/body/encoder/layer_%i/self_attention/multihead_attention/bottom_up_dot_product_attention/k_presence_mat\" % i]\n",
    "\n",
    "    similarity = model.attention_weights[\n",
    "      \"bottomup_transformer_encoder/body/encoder/layer_%i/self_attention/multihead_attention/bottom_up_dot_product_attention/similarities\" % i]\n",
    "\n",
    "    softmax_temp = model.attention_weights[\n",
    "      \"bottomup_transformer_encoder/body/encoder/layer_%i/self_attention/multihead_attention/bottom_up_dot_product_attention/softmax_tmp\" % i]\n",
    "\n",
    "        \n",
    "    assignment_weights.append(assignment_weight)\n",
    "    weights.append(weight)\n",
    "    presence_qz.append(presence_q)\n",
    "    presence_qz_logits.append(presence_q_logit)\n",
    "    similarieties.append(similarity)\n",
    "    q_presence_mats.append(q_presence_mat)\n",
    "    k_presence_mats.append(k_presence_mat)\n",
    "    softmax_temps.append(softmax_temp)\n",
    "\n",
    "  return np.asarray(assignment_weights), \\\n",
    "        np.asarray(weights), \\\n",
    "        np.asarray(presence_qz), \\\n",
    "        np.asarray(presence_qz_logits), \\\n",
    "        np.asarray(similarieties), \\\n",
    "        np.asarray(q_presence_mats), np.asarray(k_presence_mats), softmax_temps\n",
    "\n",
    "def resize(np_mat):\n",
    "  # Sum across heads\n",
    "  np_mat = np_mat[:, :SIZE, :SIZE]\n",
    "  row_sums = np.sum(np_mat, axis=0)\n",
    "  # Normalize\n",
    "  layer_mat = np_mat / row_sums[np.newaxis, :]\n",
    "  lsh = layer_mat.shape\n",
    "  # Add extra dim for viz code to work.\n",
    "  layer_mat = np.reshape(layer_mat, (1, lsh[0], lsh[1], lsh[2]))\n",
    "  return layer_mat\n",
    "\n",
    "def to_tokens(ids):\n",
    "  ids = np.squeeze(ids)\n",
    "  subtokenizer = hparams.problem_hparams.vocabulary['targets']\n",
    "  tokens = []\n",
    "  for _id in ids:\n",
    "    if _id == 0:\n",
    "      tokens.append('<PAD>')\n",
    "    elif _id == 1:\n",
    "      tokens.append('<EOS>')\n",
    "    elif _id == -1:\n",
    "      tokens.append('<NULL>')\n",
    "    else:\n",
    "        tokens.append(subtokenizer._subtoken_id_to_subtoken_string(_id))\n",
    "  return tokens\n",
    "\n",
    "def plot_mat_per_layer(attention_mat):\n",
    "    cmap = plt.cm.coolwarm\n",
    "    norm = mpl.colors.Normalize(vmin=0, vmax=1)\n",
    "    for layer in np.arange(len(attention_mat)):\n",
    "      print(\"Layer number: %d\" %layer)\n",
    "      axes = {}\n",
    "      f = plt.figure(figsize=(10,3))\n",
    "      for head in np.arange(1,len(attention_mat[layer][0])+1):\n",
    "        axes[head] = f.add_subplot(1,len(attention_mat[layer][0]),head)\n",
    "        im = axes[head].imshow(attention_mat[layer][0][head-1],cmap=cmap, norm=norm)\n",
    "        axes[head].get_xaxis().set_visible(False)\n",
    "        axes[head].get_yaxis().set_visible(False)\n",
    "        plt.colorbar(im)  \n",
    "      plt.show()"
   ]
  },
  {
   "cell_type": "code",
   "execution_count": 5,
   "metadata": {},
   "outputs": [
    {
     "name": "stdout",
     "output_type": "stream",
     "text": [
      "None\n"
     ]
    }
   ],
   "source": [
    "#@title Classify an example and get the attention mats\n",
    "# Restore and translate!\n",
    "ckpt_path = '../logs/algorithmic_count100/bottomup_transformer_encoder_bottomup_transformer_wk_normpp_tiny_tall_noq_nok_p_tmpdecay_trial2/'\n",
    "ckpt_path = tf.train.latest_checkpoint(ckpt_path)\n",
    "print(ckpt_path)\n",
    "def classify(inputs):\n",
    "  encoded_inputs = encode(inputs)\n",
    "#  with tfe.restore_variables_on_create(ckpt_path):\n",
    "  model_output = model.infer(encoded_inputs)[\"logits\"]\n",
    "  return np.argmax(model_output)\n",
    "\n",
    "def classify_examples(examples_inputs):\n",
    "  with tfe.restore_variables_on_create(ckpt_path):\n",
    "      model_output = model.infer(examples_inputs)\n",
    "  return model_output.numpy()"
   ]
  },
  {
   "cell_type": "code",
   "execution_count": 6,
   "metadata": {},
   "outputs": [
    {
     "name": "stdout",
     "output_type": "stream",
     "text": [
      "INFO:tensorflow:Greedy Decoding\n",
      "WARNING:tensorflow:From /home/samira/Codes/tensor2tensor/tensor2tensor/utils/t2t_model.py:1368: to_int32 (from tensorflow.python.ops.math_ops) is deprecated and will be removed in a future version.\n",
      "Instructions for updating:\n",
      "Use tf.cast instead.\n",
      "INFO:tensorflow:Transforming feature 'inputs' with symbol_modality_102_128.bottom\n",
      "INFO:tensorflow:Transforming feature 'targets' with class_label_modality_100_128.targets_bottom\n",
      "INFO:tensorflow:Building model body\n",
      "WARNING:tensorflow:From /home/samira/Codes/tensor2tensor/tensor2tensor/layers/common_attention.py:856: to_float (from tensorflow.python.ops.math_ops) is deprecated and will be removed in a future version.\n",
      "Instructions for updating:\n",
      "Use tf.cast instead.\n",
      "WARNING:tensorflow:From /home/samira/anaconda3/envs/myt2t/lib/python3.7/site-packages/tensorflow/python/ops/resource_variable_ops.py:642: colocate_with (from tensorflow.python.framework.ops) is deprecated and will be removed in a future version.\n",
      "Instructions for updating:\n",
      "Colocations handled automatically by placer.\n",
      "INFO:tensorflow:Transforming body output with class_label_modality_100_128.top\n",
      "WARNING:tensorflow:From /home/samira/Codes/tensor2tensor/tensor2tensor/layers/modalities.py:946: dense (from tensorflow.python.layers.core) is deprecated and will be removed in a future version.\n",
      "Instructions for updating:\n",
      "Use keras.layers.dense instead.\n",
      "WARNING:tensorflow:From /home/samira/Codes/tensor2tensor/tensor2tensor/utils/t2t_model.py:1215: to_int64 (from tensorflow.python.ops.math_ops) is deprecated and will be removed in a future version.\n",
      "Instructions for updating:\n",
      "Use tf.cast instead.\n",
      "Inputs: 1 2 1 2 1 2 1 2\n",
      "Outputs: 70\n"
     ]
    }
   ],
   "source": [
    "inputs = \"1 2 1 2 1 2 1 2\"\n",
    "outputs = classify(inputs)\n",
    "\n",
    "print(\"Inputs: %s\" % inputs)\n",
    "print(\"Outputs: %s\" % outputs)"
   ]
  },
  {
   "cell_type": "code",
   "execution_count": 7,
   "metadata": {},
   "outputs": [],
   "source": [
    "assignment_weights, weights , presence_qz, presence_qz_logits, similarieties, q_presence_mats, k_presence_mats, softmax_temps = get_att_mats(model)"
   ]
  },
  {
   "cell_type": "code",
   "execution_count": 8,
   "metadata": {},
   "outputs": [
    {
     "name": "stdout",
     "output_type": "stream",
     "text": [
      "Layer number: 0\n"
     ]
    },
    {
     "data": {
      "text/plain": [
       "<Figure size 432x288 with 0 Axes>"
      ]
     },
     "metadata": {},
     "output_type": "display_data"
    },
    {
     "data": {
      "image/png": "[encoded data removed]",
      "text/plain": [
       "<Figure size 720x216 with 4 Axes>"
      ]
     },
     "metadata": {
      "needs_background": "light"
     },
     "output_type": "display_data"
    },
    {
     "name": "stdout",
     "output_type": "stream",
     "text": [
      "Layer number: 1\n"
     ]
    },
    {
     "data": {
      "image/png": "[encoded data removed]",
      "text/plain": [
       "<Figure size 720x216 with 4 Axes>"
      ]
     },
     "metadata": {
      "needs_background": "light"
     },
     "output_type": "display_data"
    },
    {
     "name": "stdout",
     "output_type": "stream",
     "text": [
      "Layer number: 2\n"
     ]
    },
    {
     "data": {
      "image/png": "[encoded data removed]",
      "text/plain": [
       "<Figure size 720x216 with 4 Axes>"
      ]
     },
     "metadata": {
      "needs_background": "light"
     },
     "output_type": "display_data"
    },
    {
     "name": "stdout",
     "output_type": "stream",
     "text": [
      "Layer number: 3\n"
     ]
    },
    {
     "data": {
      "image/png": "[encoded data removed]",
      "text/plain": [
       "<Figure size 720x216 with 4 Axes>"
      ]
     },
     "metadata": {
      "needs_background": "light"
     },
     "output_type": "display_data"
    }
   ],
   "source": [
    "#@title Encoder attention at different layers\n",
    "plt.subplots_adjust(left=None, bottom=None, right=None, top=None, wspace=0.5, hspace=None)\n",
    "plot_mat_per_layer(assignment_weights)"
   ]
  },
  {
   "cell_type": "code",
   "execution_count": 9,
   "metadata": {},
   "outputs": [
    {
     "name": "stdout",
     "output_type": "stream",
     "text": [
      "Layer number: 0\n"
     ]
    },
    {
     "data": {
      "image/png": "[encoded data removed]",
      "text/plain": [
       "<Figure size 720x216 with 4 Axes>"
      ]
     },
     "metadata": {
      "needs_background": "light"
     },
     "output_type": "display_data"
    },
    {
     "name": "stdout",
     "output_type": "stream",
     "text": [
      "Layer number: 1\n"
     ]
    },
    {
     "data": {
      "image/png": "[encoded data removed]",
      "text/plain": [
       "<Figure size 720x216 with 4 Axes>"
      ]
     },
     "metadata": {
      "needs_background": "light"
     },
     "output_type": "display_data"
    },
    {
     "name": "stdout",
     "output_type": "stream",
     "text": [
      "Layer number: 2\n"
     ]
    },
    {
     "data": {
      "image/png": "[encoded data removed]",
      "text/plain": [
       "<Figure size 720x216 with 4 Axes>"
      ]
     },
     "metadata": {
      "needs_background": "light"
     },
     "output_type": "display_data"
    },
    {
     "name": "stdout",
     "output_type": "stream",
     "text": [
      "Layer number: 3\n"
     ]
    },
    {
     "data": {
      "image/png": "[encoded data removed]",
      "text/plain": [
       "<Figure size 720x216 with 4 Axes>"
      ]
     },
     "metadata": {
      "needs_background": "light"
     },
     "output_type": "display_data"
    }
   ],
   "source": [
    "plot_mat_per_layer(weights)"
   ]
  },
  {
   "cell_type": "code",
   "execution_count": 10,
   "metadata": {},
   "outputs": [
    {
     "name": "stdout",
     "output_type": "stream",
     "text": [
      "Layer number: 0\n"
     ]
    },
    {
     "data": {
      "image/png": "[encoded data removed]",
      "text/plain": [
       "<Figure size 720x216 with 4 Axes>"
      ]
     },
     "metadata": {
      "needs_background": "light"
     },
     "output_type": "display_data"
    },
    {
     "name": "stdout",
     "output_type": "stream",
     "text": [
      "Layer number: 1\n"
     ]
    },
    {
     "data": {
      "image/png": "[encoded data removed]",
      "text/plain": [
       "<Figure size 720x216 with 4 Axes>"
      ]
     },
     "metadata": {
      "needs_background": "light"
     },
     "output_type": "display_data"
    },
    {
     "name": "stdout",
     "output_type": "stream",
     "text": [
      "Layer number: 2\n"
     ]
    },
    {
     "data": {
      "image/png": "[encoded data removed]",
      "text/plain": [
       "<Figure size 720x216 with 4 Axes>"
      ]
     },
     "metadata": {
      "needs_background": "light"
     },
     "output_type": "display_data"
    },
    {
     "name": "stdout",
     "output_type": "stream",
     "text": [
      "Layer number: 3\n"
     ]
    },
    {
     "data": {
      "image/png": "[encoded data removed]",
      "text/plain": [
       "<Figure size 720x216 with 4 Axes>"
      ]
     },
     "metadata": {
      "needs_background": "light"
     },
     "output_type": "display_data"
    }
   ],
   "source": [
    "plot_mat_per_layer(k_presence_mats)"
   ]
  },
  {
   "cell_type": "code",
   "execution_count": 11,
   "metadata": {},
   "outputs": [
    {
     "name": "stdout",
     "output_type": "stream",
     "text": [
      "INFO:tensorflow:Reading data files from ../data/algorithmic_count100/algorithmic_count100-dev*\n",
      "INFO:tensorflow:partition: 0 num_data_files: 1\n"
     ]
    },
    {
     "data": {
      "text/plain": [
       "24"
      ]
     },
     "execution_count": 11,
     "metadata": {},
     "output_type": "execute_result"
    }
   ],
   "source": [
    "# Setup the training data\n",
    "BATCH_SIZE = 1\n",
    "train_dataset = problem.dataset(Modes.EVAL, data_dir)\n",
    "train_dataset = train_dataset.padded_batch(batch_size=BATCH_SIZE, padded_shapes={'inputs':[None], 'targets':[1], 'batch_prediction_key':[None]})\n",
    "train_dataset = train_dataset.repeat(None)\n",
    "\n",
    "examples = tfe.Iterator(train_dataset).next()\n",
    "classify(decode(examples['inputs']))\n"
   ]
  },
  {
   "cell_type": "code",
   "execution_count": 12,
   "metadata": {},
   "outputs": [
    {
     "ename": "ValueError",
     "evalue": "too many values to unpack (expected 7)",
     "output_type": "error",
     "traceback": [
      "\u001b[0;31m---------------------------------------------------------------------------\u001b[0m",
      "\u001b[0;31mValueError\u001b[0m                                Traceback (most recent call last)",
      "\u001b[0;32m<ipython-input-12-869891cc1cd6>\u001b[0m in \u001b[0;36m<module>\u001b[0;34m\u001b[0m\n\u001b[0;32m----> 1\u001b[0;31m \u001b[0massignment_weights\u001b[0m\u001b[0;34m,\u001b[0m \u001b[0mweights\u001b[0m \u001b[0;34m,\u001b[0m \u001b[0mpresence_qz\u001b[0m\u001b[0;34m,\u001b[0m \u001b[0mpresence_qz_logits\u001b[0m\u001b[0;34m,\u001b[0m \u001b[0msimilarieties\u001b[0m\u001b[0;34m,\u001b[0m \u001b[0mq_presence_mats\u001b[0m\u001b[0;34m,\u001b[0m \u001b[0mk_presence_mats\u001b[0m \u001b[0;34m=\u001b[0m \u001b[0mget_att_mats\u001b[0m\u001b[0;34m(\u001b[0m\u001b[0mmodel\u001b[0m\u001b[0;34m)\u001b[0m\u001b[0;34m\u001b[0m\u001b[0;34m\u001b[0m\u001b[0m\n\u001b[0m",
      "\u001b[0;31mValueError\u001b[0m: too many values to unpack (expected 7)"
     ]
    }
   ],
   "source": [
    "assignment_weights, weights , presence_qz, presence_qz_logits, similarieties, q_presence_mats, k_presence_mats = get_att_mats(model)"
   ]
  },
  {
   "cell_type": "code",
   "execution_count": null,
   "metadata": {},
   "outputs": [],
   "source": [
    "for layer in np.arange(len(presence_qz[:,0])):\n",
    "    n, bins, patches = plt.hist(presence_qz[layer,0], 10, density=True, facecolor='g', alpha=0.75)\n",
    "    plt.show()"
   ]
  },
  {
   "cell_type": "code",
   "execution_count": null,
   "metadata": {},
   "outputs": [],
   "source": [
    "X = csr_matrix([[0, 8, 0, 3],\n",
    "                 [0, 0, 2, 5],\n",
    "                 [0, 0, 0, 6],\n",
    "                 [0, 0, 0, 0]])\n",
    "Tcsr = minimum_spanning_tree(X)\n",
    "\n",
    "Tcsr.toarray()\n",
    "\n",
    "G = nx.from_numpy_matrix(np.array(Tcsr.toarray())) \n",
    "nx.draw(G, with_labels=True)"
   ]
  },
  {
   "cell_type": "code",
   "execution_count": null,
   "metadata": {},
   "outputs": [],
   "source": [
    "print(weights[0][0][0].shape)\n",
    "G = nx.from_numpy_matrix(np.array(weights[0][0][0])) \n",
    "nx.draw(G, with_labels=True)"
   ]
  },
  {
   "cell_type": "code",
   "execution_count": null,
   "metadata": {},
   "outputs": [],
   "source": [
    "from networkx.algorithms import bipartite\n",
    "\n",
    "B = nx.Graph()\n",
    "B.add_nodes_from(np.arange(len(weights[0][0][0])), bipartite=0)\n",
    "B.add_nodes_from(np.arange(len(weights[0][0][0])), bipartite=1)\n",
    "#B.add_edges_from(weights[0][0][0])\n",
    "\n",
    "plt.figure()\n",
    "edges = B.edges()\n",
    "print(edges)\n",
    "X, Y = bipartite.sets(B)\n",
    "pos = dict()\n",
    "pos.update( (n, (1, i)) for i, n in enumerate(X) ) # put nodes from X at x=1\n",
    "pos.update( (n, (2, i)) for i, n in enumerate(Y) ) # put nodes from Y at x=2\n",
    "nx.draw_networkx(B, pos=pos, edges=edges)\n",
    "plt.show()"
   ]
  },
  {
   "cell_type": "code",
   "execution_count": 11,
   "metadata": {},
   "outputs": [
    {
     "data": {
      "text/plain": [
       "[0.01, 0.005, 0.0033333333333333335, 0.0025]"
      ]
     },
     "execution_count": 11,
     "metadata": {},
     "output_type": "execute_result"
    }
   ],
   "source": [
    "softmax_temps"
   ]
  },
  {
   "cell_type": "code",
   "execution_count": 10,
   "metadata": {},
   "outputs": [
    {
     "ename": "AttributeError",
     "evalue": "'NoneType' object has no attribute 'shape'",
     "output_type": "error",
     "traceback": [
      "\u001b[0;31m---------------------------------------------------------------------------\u001b[0m",
      "\u001b[0;31mAttributeError\u001b[0m                            Traceback (most recent call last)",
      "\u001b[0;32m<ipython-input-10-3b48a7cc7287>\u001b[0m in \u001b[0;36m<module>\u001b[0;34m\u001b[0m\n\u001b[0;32m----> 1\u001b[0;31m \u001b[0mpresence_qz\u001b[0m\u001b[0;34m[\u001b[0m\u001b[0;36m0\u001b[0m\u001b[0;34m]\u001b[0m\u001b[0;34m.\u001b[0m\u001b[0mshape\u001b[0m\u001b[0;34m\u001b[0m\u001b[0;34m\u001b[0m\u001b[0m\n\u001b[0m",
      "\u001b[0;31mAttributeError\u001b[0m: 'NoneType' object has no attribute 'shape'"
     ]
    }
   ],
   "source": []
  },
  {
   "cell_type": "code",
   "execution_count": null,
   "metadata": {},
   "outputs": [],
   "source": []
  }
 ],
 "metadata": {
  "kernelspec": {
   "display_name": "Python 3",
   "language": "python",
   "name": "python3"
  },
  "language_info": {
   "codemirror_mode": {
    "name": "ipython",
    "version": 3
   },
   "file_extension": ".py",
   "mimetype": "text/x-python",
   "name": "python",
   "nbconvert_exporter": "python",
   "pygments_lexer": "ipython3",
   "version": "3.7.3"
  }
 },
 "nbformat": 4,
 "nbformat_minor": 2
}
