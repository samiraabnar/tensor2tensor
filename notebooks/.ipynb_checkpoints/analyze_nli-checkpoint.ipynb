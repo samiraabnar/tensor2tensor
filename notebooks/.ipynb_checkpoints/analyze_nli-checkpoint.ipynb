{
 "cells": [
  {
   "cell_type": "code",
   "execution_count": 1,
   "metadata": {},
   "outputs": [
    {
     "name": "stdout",
     "output_type": "stream",
     "text": [
      "\n",
      "WARNING: The TensorFlow contrib module will not be included in TensorFlow 2.0.\n",
      "For more information, please see:\n",
      "  * https://github.com/tensorflow/community/blob/master/rfcs/20180907-contrib-sunset.md\n",
      "  * https://github.com/tensorflow/addons\n",
      "If you depend on functionality not listed there, please file an issue.\n",
      "\n",
      "INFO:tensorflow:Entry Point [tensor2tensor.envs.tic_tac_toe_env:TicTacToeEnv] registered with id [T2TEnv-TicTacToeEnv-v0]\n"
     ]
    }
   ],
   "source": [
    "# Imports we need.\n",
    "import tensorflow as tf\n",
    "import matplotlib.pyplot as plt\n",
    "import numpy as np\n",
    "import os\n",
    "import collections\n",
    "\n",
    "from tensor2tensor import models\n",
    "from tensor2tensor import problems\n",
    "from tensor2tensor.layers import common_layers\n",
    "from tensor2tensor.utils import trainer_lib\n",
    "from tensor2tensor.utils import t2t_model\n",
    "from tensor2tensor.utils import registry\n",
    "from tensor2tensor.utils import metrics\n",
    "\n",
    "# Enable TF Eager execution\n",
    "tfe = tf.contrib.eager\n",
    "tfe.enable_eager_execution()\n",
    "\n",
    "# Other setup\n",
    "Modes = tf.estimator.ModeKeys"
   ]
  },
  {
   "cell_type": "code",
   "execution_count": 2,
   "metadata": {},
   "outputs": [
    {
     "name": "stdout",
     "output_type": "stream",
     "text": [
      "INFO:tensorflow:Skipping generator because outputs files exists at ['../data/multi_nli/multi_nli-unshuffled-train-00000-of-00100', '../data/multi_nli/multi_nli-unshuffled-train-00001-of-00100', '../data/multi_nli/multi_nli-unshuffled-train-00002-of-00100', '../data/multi_nli/multi_nli-unshuffled-train-00003-of-00100', '../data/multi_nli/multi_nli-unshuffled-train-00004-of-00100', '../data/multi_nli/multi_nli-unshuffled-train-00005-of-00100', '../data/multi_nli/multi_nli-unshuffled-train-00006-of-00100', '../data/multi_nli/multi_nli-unshuffled-train-00007-of-00100', '../data/multi_nli/multi_nli-unshuffled-train-00008-of-00100', '../data/multi_nli/multi_nli-unshuffled-train-00009-of-00100', '../data/multi_nli/multi_nli-unshuffled-train-00010-of-00100', '../data/multi_nli/multi_nli-unshuffled-train-00011-of-00100', '../data/multi_nli/multi_nli-unshuffled-train-00012-of-00100', '../data/multi_nli/multi_nli-unshuffled-train-00013-of-00100', '../data/multi_nli/multi_nli-unshuffled-train-00014-of-00100', '../data/multi_nli/multi_nli-unshuffled-train-00015-of-00100', '../data/multi_nli/multi_nli-unshuffled-train-00016-of-00100', '../data/multi_nli/multi_nli-unshuffled-train-00017-of-00100', '../data/multi_nli/multi_nli-unshuffled-train-00018-of-00100', '../data/multi_nli/multi_nli-unshuffled-train-00019-of-00100', '../data/multi_nli/multi_nli-unshuffled-train-00020-of-00100', '../data/multi_nli/multi_nli-unshuffled-train-00021-of-00100', '../data/multi_nli/multi_nli-unshuffled-train-00022-of-00100', '../data/multi_nli/multi_nli-unshuffled-train-00023-of-00100', '../data/multi_nli/multi_nli-unshuffled-train-00024-of-00100', '../data/multi_nli/multi_nli-unshuffled-train-00025-of-00100', '../data/multi_nli/multi_nli-unshuffled-train-00026-of-00100', '../data/multi_nli/multi_nli-unshuffled-train-00027-of-00100', '../data/multi_nli/multi_nli-unshuffled-train-00028-of-00100', '../data/multi_nli/multi_nli-unshuffled-train-00029-of-00100', '../data/multi_nli/multi_nli-unshuffled-train-00030-of-00100', '../data/multi_nli/multi_nli-unshuffled-train-00031-of-00100', '../data/multi_nli/multi_nli-unshuffled-train-00032-of-00100', '../data/multi_nli/multi_nli-unshuffled-train-00033-of-00100', '../data/multi_nli/multi_nli-unshuffled-train-00034-of-00100', '../data/multi_nli/multi_nli-unshuffled-train-00035-of-00100', '../data/multi_nli/multi_nli-unshuffled-train-00036-of-00100', '../data/multi_nli/multi_nli-unshuffled-train-00037-of-00100', '../data/multi_nli/multi_nli-unshuffled-train-00038-of-00100', '../data/multi_nli/multi_nli-unshuffled-train-00039-of-00100', '../data/multi_nli/multi_nli-unshuffled-train-00040-of-00100', '../data/multi_nli/multi_nli-unshuffled-train-00041-of-00100', '../data/multi_nli/multi_nli-unshuffled-train-00042-of-00100', '../data/multi_nli/multi_nli-unshuffled-train-00043-of-00100', '../data/multi_nli/multi_nli-unshuffled-train-00044-of-00100', '../data/multi_nli/multi_nli-unshuffled-train-00045-of-00100', '../data/multi_nli/multi_nli-unshuffled-train-00046-of-00100', '../data/multi_nli/multi_nli-unshuffled-train-00047-of-00100', '../data/multi_nli/multi_nli-unshuffled-train-00048-of-00100', '../data/multi_nli/multi_nli-unshuffled-train-00049-of-00100', '../data/multi_nli/multi_nli-unshuffled-train-00050-of-00100', '../data/multi_nli/multi_nli-unshuffled-train-00051-of-00100', '../data/multi_nli/multi_nli-unshuffled-train-00052-of-00100', '../data/multi_nli/multi_nli-unshuffled-train-00053-of-00100', '../data/multi_nli/multi_nli-unshuffled-train-00054-of-00100', '../data/multi_nli/multi_nli-unshuffled-train-00055-of-00100', '../data/multi_nli/multi_nli-unshuffled-train-00056-of-00100', '../data/multi_nli/multi_nli-unshuffled-train-00057-of-00100', '../data/multi_nli/multi_nli-unshuffled-train-00058-of-00100', '../data/multi_nli/multi_nli-unshuffled-train-00059-of-00100', '../data/multi_nli/multi_nli-unshuffled-train-00060-of-00100', '../data/multi_nli/multi_nli-unshuffled-train-00061-of-00100', '../data/multi_nli/multi_nli-unshuffled-train-00062-of-00100', '../data/multi_nli/multi_nli-unshuffled-train-00063-of-00100', '../data/multi_nli/multi_nli-unshuffled-train-00064-of-00100', '../data/multi_nli/multi_nli-unshuffled-train-00065-of-00100', '../data/multi_nli/multi_nli-unshuffled-train-00066-of-00100', '../data/multi_nli/multi_nli-unshuffled-train-00067-of-00100', '../data/multi_nli/multi_nli-unshuffled-train-00068-of-00100', '../data/multi_nli/multi_nli-unshuffled-train-00069-of-00100', '../data/multi_nli/multi_nli-unshuffled-train-00070-of-00100', '../data/multi_nli/multi_nli-unshuffled-train-00071-of-00100', '../data/multi_nli/multi_nli-unshuffled-train-00072-of-00100', '../data/multi_nli/multi_nli-unshuffled-train-00073-of-00100', '../data/multi_nli/multi_nli-unshuffled-train-00074-of-00100', '../data/multi_nli/multi_nli-unshuffled-train-00075-of-00100', '../data/multi_nli/multi_nli-unshuffled-train-00076-of-00100', '../data/multi_nli/multi_nli-unshuffled-train-00077-of-00100', '../data/multi_nli/multi_nli-unshuffled-train-00078-of-00100', '../data/multi_nli/multi_nli-unshuffled-train-00079-of-00100', '../data/multi_nli/multi_nli-unshuffled-train-00080-of-00100', '../data/multi_nli/multi_nli-unshuffled-train-00081-of-00100', '../data/multi_nli/multi_nli-unshuffled-train-00082-of-00100', '../data/multi_nli/multi_nli-unshuffled-train-00083-of-00100', '../data/multi_nli/multi_nli-unshuffled-train-00084-of-00100', '../data/multi_nli/multi_nli-unshuffled-train-00085-of-00100', '../data/multi_nli/multi_nli-unshuffled-train-00086-of-00100', '../data/multi_nli/multi_nli-unshuffled-train-00087-of-00100', '../data/multi_nli/multi_nli-unshuffled-train-00088-of-00100', '../data/multi_nli/multi_nli-unshuffled-train-00089-of-00100', '../data/multi_nli/multi_nli-unshuffled-train-00090-of-00100', '../data/multi_nli/multi_nli-unshuffled-train-00091-of-00100', '../data/multi_nli/multi_nli-unshuffled-train-00092-of-00100', '../data/multi_nli/multi_nli-unshuffled-train-00093-of-00100', '../data/multi_nli/multi_nli-unshuffled-train-00094-of-00100', '../data/multi_nli/multi_nli-unshuffled-train-00095-of-00100', '../data/multi_nli/multi_nli-unshuffled-train-00096-of-00100', '../data/multi_nli/multi_nli-unshuffled-train-00097-of-00100', '../data/multi_nli/multi_nli-unshuffled-train-00098-of-00100', '../data/multi_nli/multi_nli-unshuffled-train-00099-of-00100']\n",
      "INFO:tensorflow:Skipping generator because outputs files exists at ['../data/multi_nli/multi_nli-unshuffled-dev-00000-of-00001']\n",
      "INFO:tensorflow:Skipping shuffle because output files exist\n"
     ]
    }
   ],
   "source": [
    "data_dir='../data/multi_nli'\n",
    "tmp_dir='../tmp/multi_nli'\n",
    "\n",
    "# Fetch the problem\n",
    "problem = problems.problem(\"multi_nli\")\n",
    "# The generate_data method of a problem will download data and process it into\n",
    "# a standard format ready for training and evaluation.\n",
    "problem.generate_data(data_dir, tmp_dir)\n",
    "\n",
    "# Get the encoders from the problem\n",
    "encoders = problem.feature_encoders(data_dir)\n",
    "\n",
    "# Setup helper functions for encoding and decoding\n",
    "def encode(input_str, output_str=None):\n",
    "  \"\"\"Input str to features dict, ready for inference\"\"\"\n",
    "  inputs = encoders[\"inputs\"].encode(input_str) + [1]  # add EOS id\n",
    "  batch_inputs = tf.reshape(inputs, [1, -1, 1])  # Make it 3D.\n",
    "  return {\"inputs\": batch_inputs}\n",
    "\n",
    "def decode(integers):\n",
    "  \"\"\"List of ints to str\"\"\"\n",
    "  integers = list(np.squeeze(integers))\n",
    "  if 1 in integers:\n",
    "    integers = integers[:integers.index(1)]\n",
    "  return encoders[\"inputs\"].decode(np.squeeze(integers))"
   ]
  },
  {
   "cell_type": "code",
   "execution_count": 5,
   "metadata": {},
   "outputs": [
    {
     "name": "stdout",
     "output_type": "stream",
     "text": [
      "INFO:tensorflow:Reading data files from ../data/multi_nli/multi_nli-dev*\n",
      "INFO:tensorflow:partition: 0 num_data_files: 1\n",
      "input: I still didn't trust the little buggers.$I had a distrust for the tiny things.\n",
      "Label: 1\n"
     ]
    }
   ],
   "source": [
    "# Now let's see the training MNIST data as Tensors.\n",
    "example = tfe.Iterator(problem.dataset(Modes.EVAL, data_dir)).next()\n",
    "example_inputs = example[\"inputs\"]\n",
    "example_label = example[\"targets\"]\n",
    "\n",
    "print(\"input:\", decode(example_inputs))\n",
    "print(\"Label: %d\" % example_label.numpy())"
   ]
  },
  {
   "cell_type": "code",
   "execution_count": 6,
   "metadata": {},
   "outputs": [
    {
     "name": "stdout",
     "output_type": "stream",
     "text": [
      "INFO:tensorflow:Unsetting shared_embedding_and_softmax_weights.\n",
      "INFO:tensorflow:Setting T2TModel mode to 'eval'\n",
      "INFO:tensorflow:Setting hparams.dropout to 0.0\n",
      "INFO:tensorflow:Setting hparams.label_smoothing to 0.0\n",
      "INFO:tensorflow:Setting hparams.layer_prepostprocess_dropout to 0.0\n",
      "INFO:tensorflow:Setting hparams.symbol_dropout to 0.0\n",
      "INFO:tensorflow:Setting hparams.attention_dropout to 0.0\n",
      "INFO:tensorflow:Setting hparams.relu_dropout to 0.0\n"
     ]
    }
   ],
   "source": [
    "#@title Create the model\n",
    "# Create hparams and the model\n",
    "model_name = \"bottomup_transformer_encoder\"\n",
    "hparams_set = \"transformer_tiny\"\n",
    "\n",
    "hparams = trainer_lib.create_hparams(hparams_set, data_dir=data_dir, problem_name=\"multi_nli\")\n",
    "#hparams.num_heads = 1\n",
    "# NOTE: Only create the model once when restoring from a checkpoint; it's a\n",
    "# Layer and so subsequent instantiations will have different variable scopes\n",
    "# that will not match the checkpoint.\n",
    "model = registry.model(model_name)(hparams, Modes.EVAL)"
   ]
  },
  {
   "cell_type": "code",
   "execution_count": 12,
   "metadata": {},
   "outputs": [],
   "source": [
    "#@title Utility functions\n",
    "from tensor2tensor.visualization import attention\n",
    "from tensor2tensor.data_generators import text_encoder\n",
    "\n",
    "SIZE = 35\n",
    "\n",
    "def encode_eval(input_str, output_str):\n",
    "  inputs = tf.reshape(encoders[\"inputs\"].encode(input_str) + [1], [1, -1, 1, 1])  # Make it 3D.\n",
    "  outputs = tf.reshape(encoders[\"inputs\"].encode(output_str) + [1], [1, -1, 1, 1])  # Make it 3D.\n",
    "  return {\"inputs\": inputs, \"targets\": outputs}\n",
    "\n",
    "def get_att_mats(model):\n",
    "  assignment_weights = []\n",
    "  weights = []\n",
    "  presence_qz = []\n",
    "  presence_qz_logits = []\n",
    "  similarieties = []\n",
    "  q_presence_mats = []\n",
    "  k_presence_mats = []\n",
    "\n",
    "\n",
    "  for i in range(hparams.num_hidden_layers):\n",
    "    assignment_weight = model.attention_weights[\n",
    "      \"bottomup_transformer_encoder/body/encoder/layer_%i/self_attention/multihead_attention/bottom_up_dot_product_attention/assignment_weights\" % i]\n",
    "    weight = model.attention_weights[\n",
    "      \"bottomup_transformer_encoder/body/encoder/layer_%i/self_attention/multihead_attention/bottom_up_dot_product_attention/weights\" % i]\n",
    "    presence_q = model.attention_weights[\n",
    "      \"bottomup_transformer_encoder/body/encoder/layer_%i/self_attention/multihead_attention/bottom_up_dot_product_attention/q_presence_probs\" % i]\n",
    "    presence_q_logit = model.attention_weights[\n",
    "      \"bottomup_transformer_encoder/body/encoder/layer_%i/self_attention/multihead_attention/bottom_up_dot_product_attention/q_presence_logits\" % i]\n",
    "    \n",
    "    q_presence_mat = model.attention_weights[\n",
    "      \"bottomup_transformer_encoder/body/encoder/layer_%i/self_attention/multihead_attention/bottom_up_dot_product_attention/q_presence_mat\" % i]\n",
    "\n",
    "    k_presence_mat = model.attention_weights[\n",
    "      \"bottomup_transformer_encoder/body/encoder/layer_%i/self_attention/multihead_attention/bottom_up_dot_product_attention/k_presence_mat\" % i]\n",
    "\n",
    "    similarity = model.attention_weights[\n",
    "      \"bottomup_transformer_encoder/body/encoder/layer_%i/self_attention/multihead_attention/bottom_up_dot_product_attention/similarities\" % i]\n",
    "\n",
    "    assignment_weights.append(assignment_weight)\n",
    "    weights.append(weight)\n",
    "    presence_qz.append(presence_q)\n",
    "    presence_qz_logits.append(presence_q_logit)\n",
    "    similarieties.append(similarity)\n",
    "    q_presence_mats.append(q_presence_mat)\n",
    "    k_presence_mats.append(k_presence_mat)\n",
    "\n",
    "  return np.asarray(assignment_weights), \\\n",
    "        np.asarray(weights), \\\n",
    "        np.asarray(presence_qz), \\\n",
    "        np.asarray(presence_qz_logits), \\\n",
    "        np.asarray(similarieties), \\\n",
    "        np.asarray(q_presence_mats), np.asarray(k_presence_mats)\n",
    "\n",
    "def resize(np_mat):\n",
    "  # Sum across heads\n",
    "  np_mat = np_mat[:, :SIZE, :SIZE]\n",
    "  row_sums = np.sum(np_mat, axis=0)\n",
    "  # Normalize\n",
    "  layer_mat = np_mat / row_sums[np.newaxis, :]\n",
    "  lsh = layer_mat.shape\n",
    "  # Add extra dim for viz code to work.\n",
    "  layer_mat = np.reshape(layer_mat, (1, lsh[0], lsh[1], lsh[2]))\n",
    "  return layer_mat\n",
    "\n",
    "def to_tokens(ids):\n",
    "  ids = np.squeeze(ids)\n",
    "  subtokenizer = hparams.problem_hparams.vocabulary['targets']\n",
    "  tokens = []\n",
    "  for _id in ids:\n",
    "    if _id == 0:\n",
    "      tokens.append('<PAD>')\n",
    "    elif _id == 1:\n",
    "      tokens.append('<EOS>')\n",
    "    elif _id == -1:\n",
    "      tokens.append('<NULL>')\n",
    "    else:\n",
    "        tokens.append(subtokenizer._subtoken_id_to_subtoken_string(_id))\n",
    "  return tokens"
   ]
  },
  {
   "cell_type": "code",
   "execution_count": 36,
   "metadata": {},
   "outputs": [
    {
     "name": "stdout",
     "output_type": "stream",
     "text": [
      "../logs/multi_nli/bottomup_transformer_encoder_transformer_tiny_trial1/model.ckpt-250000\n",
      "Inputs: Love it $ Like it\n",
      "Outputs: [[[[1]]]]\n"
     ]
    }
   ],
   "source": [
    "#@title Classify an example and get the attention mats\n",
    "# Restore and translate!\n",
    "ckpt_path = '../logs/multi_nli/bottomup_transformer_encoder_transformer_tiny_trial1/'\n",
    "ckpt_path = tf.train.latest_checkpoint(ckpt_path)\n",
    "print(ckpt_path)\n",
    "def classify(inputs):\n",
    "  encoded_inputs = encode(inputs)\n",
    "  with tfe.restore_variables_on_create(ckpt_path):\n",
    "      model_output = model.infer(encoded_inputs)[\"outputs\"]\n",
    "  return model_output.numpy()\n",
    "\n",
    "inputs = \"Love it $ Like it\"\n",
    "outputs = classify(inputs)\n",
    "\n",
    "print(\"Inputs: %s\" % inputs)\n",
    "print(\"Outputs: %s\" % outputs)\n",
    "\n",
    "assignment_weights, weights , presence_qz, presence_qz_logits, similarieties, q_presence_mats, k_presence_mats = get_att_mats(model)"
   ]
  },
  {
   "cell_type": "code",
   "execution_count": 37,
   "metadata": {},
   "outputs": [
    {
     "name": "stdout",
     "output_type": "stream",
     "text": [
      "Layer number: 0\n",
      "1.0\n",
      "1.0\n",
      "1.0\n",
      "1.0\n",
      "1.0\n",
      "1.0\n",
      "1.0\n",
      "1.0\n"
     ]
    },
    {
     "data": {
      "image/png": "[encoded data removed]",
      "text/plain": [
       "<Figure size 432x288 with 4 Axes>"
      ]
     },
     "metadata": {
      "needs_background": "light"
     },
     "output_type": "display_data"
    },
    {
     "name": "stdout",
     "output_type": "stream",
     "text": [
      "Layer number: 1\n",
      "0.25834617\n",
      "0.27540976\n",
      "0.25834617\n",
      "0.27540976\n",
      "0.25834617\n",
      "0.27540976\n",
      "0.25834617\n",
      "0.27540976\n"
     ]
    },
    {
     "data": {
      "image/png": "[encoded data removed]",
      "text/plain": [
       "<Figure size 432x288 with 4 Axes>"
      ]
     },
     "metadata": {
      "needs_background": "light"
     },
     "output_type": "display_data"
    }
   ],
   "source": [
    "#@title Encoder attention at different layers\n",
    "\n",
    "attention_mat = q_presence_mats\n",
    "\n",
    "import matplotlib.pyplot as plt\n",
    "import matplotlib.image as mpimg\n",
    "%matplotlib inline  \n",
    "\n",
    "\n",
    "for layer in np.arange(len(attention_mat)):\n",
    "  print(\"Layer number: %d\" %layer)\n",
    "  axes = {}\n",
    "  for head in np.arange(1,hparams.num_heads+1):\n",
    "    print(np.min(attention_mat[layer][0][head-1]))\n",
    "    print(np.max(attention_mat[layer][0][head-1]))\n",
    "    axes[head] = plt.subplot(1,4,head)\n",
    "    im = axes[head].imshow(attention_mat[layer][0][head-1],cmap=plt.cm.binary)\n",
    "  plt.show()"
   ]
  },
  {
   "cell_type": "code",
   "execution_count": 38,
   "metadata": {},
   "outputs": [
    {
     "data": {
      "image/png": "[encoded data removed]",
      "text/plain": [
       "<Figure size 432x288 with 2 Axes>"
      ]
     },
     "metadata": {
      "needs_background": "light"
     },
     "output_type": "display_data"
    },
    {
     "data": {
      "image/png": "[encoded data removed]",
      "text/plain": [
       "<Figure size 432x288 with 2 Axes>"
      ]
     },
     "metadata": {
      "needs_background": "light"
     },
     "output_type": "display_data"
    }
   ],
   "source": [
    "#@title Encoder presence prob at different layers\n",
    "\n",
    "import matplotlib.pyplot as plt\n",
    "import matplotlib.image as mpimg\n",
    "%matplotlib inline  \n",
    "\n",
    "\n",
    "plt.imshow(presence_qz_logits[:,0], cmap=plt.cm.binary)\n",
    "plt.colorbar()\n",
    "plt.show()\n",
    "\n",
    "plt.imshow(presence_qz[:,0], cmap=plt.cm.binary)\n",
    "plt.colorbar()\n",
    "plt.show()"
   ]
  },
  {
   "cell_type": "code",
   "execution_count": 39,
   "metadata": {},
   "outputs": [
    {
     "name": "stdout",
     "output_type": "stream",
     "text": [
      "Layer number: 0\n"
     ]
    },
    {
     "data": {
      "image/png": "[encoded data removed]",
      "text/plain": [
       "<Figure size 432x288 with 4 Axes>"
      ]
     },
     "metadata": {
      "needs_background": "light"
     },
     "output_type": "display_data"
    },
    {
     "name": "stdout",
     "output_type": "stream",
     "text": [
      "Layer number: 1\n"
     ]
    },
    {
     "data": {
      "image/png": "[encoded data removed]",
      "text/plain": [
       "<Figure size 432x288 with 4 Axes>"
      ]
     },
     "metadata": {
      "needs_background": "light"
     },
     "output_type": "display_data"
    }
   ],
   "source": [
    "#@title Encoder assignment logits\n",
    "\n",
    "attention_mat = assignment_weights\n",
    "\n",
    "import matplotlib.pyplot as plt\n",
    "import matplotlib.image as mpimg\n",
    "%matplotlib inline  \n",
    "\n",
    "\n",
    "for layer in np.arange(len(attention_mat)):\n",
    "  print(\"Layer number: %d\" %layer)\n",
    "  axes = {}\n",
    "  for head in np.arange(1,5):\n",
    "    axes[head] = plt.subplot(1,4,head)\n",
    "    im = axes[head].imshow(attention_mat[layer][0][head-1],cmap=plt.cm.binary, vmin=0, vmax=1)\n",
    "  plt.show()"
   ]
  },
  {
   "cell_type": "code",
   "execution_count": 44,
   "metadata": {},
   "outputs": [
    {
     "name": "stdout",
     "output_type": "stream",
     "text": [
      "[0.25834617 0.26168653 0.25842217 0.25922695 0.25846264 0.27540976]\n"
     ]
    },
    {
     "data": {
      "image/png": "[encoded data removed]",
      "text/plain": [
       "<Figure size 432x288 with 1 Axes>"
      ]
     },
     "metadata": {
      "needs_background": "light"
     },
     "output_type": "display_data"
    },
    {
     "name": "stdout",
     "output_type": "stream",
     "text": [
      "[0.21376705 0.2534512  0.2137698  0.45421776 0.93713945 0.21376707]\n"
     ]
    },
    {
     "data": {
      "image/png": "[encoded data removed]",
      "text/plain": [
       "<Figure size 432x288 with 1 Axes>"
      ]
     },
     "metadata": {
      "needs_background": "light"
     },
     "output_type": "display_data"
    }
   ],
   "source": [
    "for layer in np.arange(len(presence_qz[:,0])):\n",
    "    print(presence_qz[layer,0])\n",
    "    n, bins, patches = plt.hist(presence_qz[layer,0], 10, density=True, facecolor='g', alpha=0.75)\n",
    "    plt.show()"
   ]
  },
  {
   "cell_type": "code",
   "execution_count": null,
   "metadata": {},
   "outputs": [],
   "source": []
  }
 ],
 "metadata": {
  "kernelspec": {
   "display_name": "Python 3",
   "language": "python",
   "name": "python3"
  },
  "language_info": {
   "codemirror_mode": {
    "name": "ipython",
    "version": 3
   },
   "file_extension": ".py",
   "mimetype": "text/x-python",
   "name": "python",
   "nbconvert_exporter": "python",
   "pygments_lexer": "ipython3",
   "version": "3.7.3"
  }
 },
 "nbformat": 4,
 "nbformat_minor": 2
}
