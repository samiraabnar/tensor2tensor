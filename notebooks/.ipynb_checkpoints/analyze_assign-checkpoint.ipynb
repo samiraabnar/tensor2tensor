{
 "cells": [
  {
   "cell_type": "code",
   "execution_count": 1,
   "metadata": {},
   "outputs": [
    {
     "name": "stdout",
     "output_type": "stream",
     "text": [
      "\n",
      "WARNING: The TensorFlow contrib module will not be included in TensorFlow 2.0.\n",
      "For more information, please see:\n",
      "  * https://github.com/tensorflow/community/blob/master/rfcs/20180907-contrib-sunset.md\n",
      "  * https://github.com/tensorflow/addons\n",
      "If you depend on functionality not listed there, please file an issue.\n",
      "\n",
      "INFO:tensorflow:Entry Point [tensor2tensor.envs.tic_tac_toe_env:TicTacToeEnv] registered with id [T2TEnv-TicTacToeEnv-v0]\n"
     ]
    }
   ],
   "source": [
    "# Imports we need.\n",
    "import tensorflow as tf\n",
    "import matplotlib.pyplot as plt\n",
    "import numpy as np\n",
    "import os\n",
    "import collections\n",
    "\n",
    "from tensor2tensor import models\n",
    "from tensor2tensor import problems\n",
    "from tensor2tensor.layers import common_layers\n",
    "from tensor2tensor.utils import trainer_lib\n",
    "from tensor2tensor.utils import t2t_model\n",
    "from tensor2tensor.utils import registry\n",
    "from tensor2tensor.utils import metrics\n",
    "\n",
    "# Enable TF Eager execution\n",
    "tfe = tf.contrib.eager\n",
    "tfe.enable_eager_execution()\n",
    "\n",
    "# Other setup\n",
    "Modes = tf.estimator.ModeKeys"
   ]
  },
  {
   "cell_type": "code",
   "execution_count": 2,
   "metadata": {},
   "outputs": [
    {
     "name": "stdout",
     "output_type": "stream",
     "text": [
      "INFO:tensorflow:Skipping generator because outputs files exists at ['../data/sentiment_imdb/sentiment_imdb-unshuffled-train-00000-of-00010', '../data/sentiment_imdb/sentiment_imdb-unshuffled-train-00001-of-00010', '../data/sentiment_imdb/sentiment_imdb-unshuffled-train-00002-of-00010', '../data/sentiment_imdb/sentiment_imdb-unshuffled-train-00003-of-00010', '../data/sentiment_imdb/sentiment_imdb-unshuffled-train-00004-of-00010', '../data/sentiment_imdb/sentiment_imdb-unshuffled-train-00005-of-00010', '../data/sentiment_imdb/sentiment_imdb-unshuffled-train-00006-of-00010', '../data/sentiment_imdb/sentiment_imdb-unshuffled-train-00007-of-00010', '../data/sentiment_imdb/sentiment_imdb-unshuffled-train-00008-of-00010', '../data/sentiment_imdb/sentiment_imdb-unshuffled-train-00009-of-00010']\n",
      "INFO:tensorflow:Skipping generator because outputs files exists at ['../data/sentiment_imdb/sentiment_imdb-unshuffled-dev-00000-of-00001']\n",
      "INFO:tensorflow:Skipping shuffle because output files exist\n"
     ]
    }
   ],
   "source": [
    "data_dir='../data/sentiment_imdb'\n",
    "tmp_dir='../tmp'\n",
    "\n",
    "# Fetch the MNIST problem\n",
    "imdb_problem = problems.problem(\"sentiment_imdb\")\n",
    "# The generate_data method of a problem will download data and process it into\n",
    "# a standard format ready for training and evaluation.\n",
    "imdb_problem.generate_data(data_dir, tmp_dir)\n",
    "\n",
    "\n",
    "# Get the encoders from the problem\n",
    "imdb_encoders = imdb_problem.feature_encoders(data_dir)\n",
    "\n",
    "# Setup helper functions for encoding and decoding\n",
    "def encode(input_str, output_str=None):\n",
    "  \"\"\"Input str to features dict, ready for inference\"\"\"\n",
    "  inputs = imdb_encoders[\"inputs\"].encode(input_str) + [1]  # add EOS id\n",
    "  batch_inputs = tf.reshape(inputs, [1, -1, 1])  # Make it 3D.\n",
    "  return {\"inputs\": batch_inputs}\n",
    "\n",
    "def decode(integers):\n",
    "  \"\"\"List of ints to str\"\"\"\n",
    "  integers = list(np.squeeze(integers))\n",
    "  if 1 in integers:\n",
    "    integers = integers[:integers.index(1)]\n",
    "  return imdb_encoders[\"inputs\"].decode(np.squeeze(integers))"
   ]
  },
  {
   "cell_type": "code",
   "execution_count": 3,
   "metadata": {},
   "outputs": [
    {
     "name": "stdout",
     "output_type": "stream",
     "text": [
      "INFO:tensorflow:Reading data files from ../data/sentiment_imdb/sentiment_imdb-dev*\n",
      "INFO:tensorflow:partition: 0 num_data_files: 1\n",
      "WARNING:tensorflow:From /home/samira/anaconda3/envs/myt2t/lib/python3.7/site-packages/tensorflow/python/data/ops/iterator_ops.py:532: colocate_with (from tensorflow.python.framework.ops) is deprecated and will be removed in a future version.\n",
      "Instructions for updating:\n",
      "Colocations handled automatically by placer.\n",
      "input: The finest short I've ever seen. Some commentators suggest it might have been lengthened, due to the density of insight it offers. There's irony in that comment and little merit. The acting is all up to Noonan and he carries his thankless character perfectly. I might have preferred that the narrator be less \"recognizable\", but the gravitas lent is pitch perfect. This is a short for people who read, for those whose \"bar\" is set high and for those who recognize that living in a culture that celebrates stupidity and banality can forge contrary and bitter defenders of beauty. A beautiful short film. FWIW: I was pleased at the Picasso reference, since I once believed that Picasso was just another art whore with little talent; like, I assume, most people - until the day I saw some drawings he made when he was 12. Picasso was a finer draftsman and a brilliant artist at that age than many artists will ever become in a lifetime. I understood immediately why he had to make the art he became known for.\n",
      "Label: 1\n"
     ]
    }
   ],
   "source": [
    "# Now let's see the training MNIST data as Tensors.\n",
    "imdb_example = tfe.Iterator(imdb_problem.dataset(Modes.EVAL, data_dir)).next()\n",
    "inputs = imdb_example[\"inputs\"]\n",
    "label = imdb_example[\"targets\"]\n",
    "\n",
    "print(\"input:\", decode(inputs))\n",
    "print(\"Label: %d\" % label.numpy())"
   ]
  },
  {
   "cell_type": "code",
   "execution_count": 4,
   "metadata": {},
   "outputs": [
    {
     "name": "stdout",
     "output_type": "stream",
     "text": [
      "INFO:tensorflow:Unsetting shared_embedding_and_softmax_weights.\n",
      "INFO:tensorflow:Setting T2TModel mode to 'eval'\n",
      "INFO:tensorflow:Setting hparams.dropout to 0.0\n",
      "INFO:tensorflow:Setting hparams.label_smoothing to 0.0\n",
      "INFO:tensorflow:Setting hparams.layer_prepostprocess_dropout to 0.0\n",
      "INFO:tensorflow:Setting hparams.symbol_dropout to 0.0\n",
      "INFO:tensorflow:Setting hparams.attention_dropout to 0.0\n",
      "INFO:tensorflow:Setting hparams.relu_dropout to 0.0\n"
     ]
    }
   ],
   "source": [
    "#@title Create the model\n",
    "# Create hparams and the model\n",
    "model_name = \"bottomup_transformer_encoder\"\n",
    "hparams_set = \"transformer_base\"\n",
    "\n",
    "hparams = trainer_lib.create_hparams(hparams_set, data_dir=data_dir, problem_name=\"sentiment_imdb\")\n",
    "hparams.num_heads = 1\n",
    "# NOTE: Only create the model once when restoring from a checkpoint; it's a\n",
    "# Layer and so subsequent instantiations will have different variable scopes\n",
    "# that will not match the checkpoint.\n",
    "imdb_model = registry.model(model_name)(hparams, Modes.EVAL)"
   ]
  },
  {
   "cell_type": "code",
   "execution_count": 8,
   "metadata": {},
   "outputs": [],
   "source": [
    "#@title Utility functions\n",
    "from tensor2tensor.visualization import attention\n",
    "from tensor2tensor.data_generators import text_encoder\n",
    "\n",
    "SIZE = 35\n",
    "\n",
    "def encode_eval(input_str, output_str):\n",
    "  inputs = tf.reshape(encoders[\"inputs\"].encode(input_str) + [1], [1, -1, 1, 1])  # Make it 3D.\n",
    "  outputs = tf.reshape(encoders[\"inputs\"].encode(output_str) + [1], [1, -1, 1, 1])  # Make it 3D.\n",
    "  return {\"inputs\": inputs, \"targets\": outputs}\n",
    "\n",
    "def get_att_mats():\n",
    "  assignment_weights = []\n",
    "  assignment_logits = []\n",
    "  weights = []\n",
    "  logits = []\n",
    "  presence_qz = []\n",
    "  presence_qz_logits = []\n",
    "  similarieties = []\n",
    "  presence_mats = []\n",
    "\n",
    "  for i in range(hparams.num_hidden_layers):\n",
    "    assignment_weight = imdb_model.attention_weights[\n",
    "      \"bottomup_transformer_encoder/body/encoder/layer_%i/self_attention/multihead_attention/bottom_up_dot_product_attention/assignment_probs\" % i]\n",
    "    assignment_logit = imdb_model.attention_weights[\n",
    "      \"bottomup_transformer_encoder/body/encoder/layer_%i/self_attention/multihead_attention/bottom_up_dot_product_attention/assignment_logits\" % i]\n",
    "    weight = imdb_model.attention_weights[\n",
    "      \"bottomup_transformer_encoder/body/encoder/layer_%i/self_attention/multihead_attention/bottom_up_dot_product_attention/weights\" % i]\n",
    "    logit = imdb_model.attention_weights[\n",
    "      \"bottomup_transformer_encoder/body/encoder/layer_%i/self_attention/multihead_attention/bottom_up_dot_product_attention/logits\" % i]\n",
    "    presence_q = imdb_model.attention_weights[\n",
    "      \"bottomup_transformer_encoder/body/encoder/layer_%i/self_attention/multihead_attention/bottom_up_dot_product_attention/q_presence_probs\" % i]\n",
    "    presence_q_logit = imdb_model.attention_weights[\n",
    "      \"bottomup_transformer_encoder/body/encoder/layer_%i/self_attention/multihead_attention/bottom_up_dot_product_attention/q_presence_logits\" % i]\n",
    "    \n",
    "    presence_mat = imdb_model.attention_weights[\n",
    "      \"bottomup_transformer_encoder/body/encoder/layer_%i/self_attention/multihead_attention/bottom_up_dot_product_attention/presence_mat\" % i]\n",
    "\n",
    "    similarity = imdb_model.attention_weights[\n",
    "      \"bottomup_transformer_encoder/body/encoder/layer_%i/self_attention/multihead_attention/bottom_up_dot_product_attention/similarities\" % i]\n",
    "\n",
    "    assignment_weights.append(assignment_weight)\n",
    "    assignment_logits.append(assignment_logit)\n",
    "    weights.append(weight)\n",
    "    logits.append(logit)\n",
    "    presence_qz.append(presence_q)\n",
    "    presence_qz_logits.append(presence_q_logit)\n",
    "    similarieties.append(similarity)\n",
    "    presence_mats.append(presence_mat)\n",
    "\n",
    "  return np.asarray(assignment_weights), \\\n",
    "        np.asarray(assignment_logits), \\\n",
    "        np.asarray(weights), \\\n",
    "        np.asarray(logits), \\\n",
    "        np.asarray(presence_qz), \\\n",
    "        np.asarray(presence_qz_logits)\n",
    "\n",
    "def resize(np_mat):\n",
    "  # Sum across heads\n",
    "  np_mat = np_mat[:, :SIZE, :SIZE]\n",
    "  row_sums = np.sum(np_mat, axis=0)\n",
    "  # Normalize\n",
    "  layer_mat = np_mat / row_sums[np.newaxis, :]\n",
    "  lsh = layer_mat.shape\n",
    "  # Add extra dim for viz code to work.\n",
    "  layer_mat = np.reshape(layer_mat, (1, lsh[0], lsh[1], lsh[2]))\n",
    "  return layer_mat\n",
    "\n",
    "def to_tokens(ids):\n",
    "  ids = np.squeeze(ids)\n",
    "  subtokenizer = hparams.problem_hparams.vocabulary['targets']\n",
    "  tokens = []\n",
    "  for _id in ids:\n",
    "    if _id == 0:\n",
    "      tokens.append('<PAD>')\n",
    "    elif _id == 1:\n",
    "      tokens.append('<EOS>')\n",
    "    elif _id == -1:\n",
    "      tokens.append('<NULL>')\n",
    "    else:\n",
    "        tokens.append(subtokenizer._subtoken_id_to_subtoken_string(_id))\n",
    "  return tokens"
   ]
  },
  {
   "cell_type": "code",
   "execution_count": 9,
   "metadata": {},
   "outputs": [
    {
     "name": "stdout",
     "output_type": "stream",
     "text": [
      "Inputs: My cat\n",
      "Outputs: [[[[0]]]]\n"
     ]
    },
    {
     "ename": "NameError",
     "evalue": "name 'similarieties' is not defined",
     "output_type": "error",
     "traceback": [
      "\u001b[0;31m---------------------------------------------------------------------------\u001b[0m",
      "\u001b[0;31mNameError\u001b[0m                                 Traceback (most recent call last)",
      "\u001b[0;32m<ipython-input-9-013920622f8b>\u001b[0m in \u001b[0;36m<module>\u001b[0;34m\u001b[0m\n\u001b[1;32m     12\u001b[0m \u001b[0mprint\u001b[0m\u001b[0;34m(\u001b[0m\u001b[0;34m\"Outputs: %s\"\u001b[0m \u001b[0;34m%\u001b[0m \u001b[0moutputs\u001b[0m\u001b[0;34m)\u001b[0m\u001b[0;34m\u001b[0m\u001b[0;34m\u001b[0m\u001b[0m\n\u001b[1;32m     13\u001b[0m \u001b[0;34m\u001b[0m\u001b[0m\n\u001b[0;32m---> 14\u001b[0;31m \u001b[0massignment_weights\u001b[0m\u001b[0;34m,\u001b[0m \u001b[0massignment_logits\u001b[0m\u001b[0;34m,\u001b[0m \u001b[0mweights\u001b[0m\u001b[0;34m,\u001b[0m \u001b[0mlogits\u001b[0m\u001b[0;34m,\u001b[0m \u001b[0mpresence_qz\u001b[0m\u001b[0;34m,\u001b[0m \u001b[0mpresence_qz_logits\u001b[0m \u001b[0;34m=\u001b[0m \u001b[0mget_att_mats\u001b[0m\u001b[0;34m(\u001b[0m\u001b[0;34m)\u001b[0m\u001b[0;34m\u001b[0m\u001b[0;34m\u001b[0m\u001b[0m\n\u001b[0m",
      "\u001b[0;32m<ipython-input-8-65d369c10bb2>\u001b[0m in \u001b[0;36mget_att_mats\u001b[0;34m()\u001b[0m\n\u001b[1;32m     46\u001b[0m     \u001b[0mpresence_qz\u001b[0m\u001b[0;34m.\u001b[0m\u001b[0mappend\u001b[0m\u001b[0;34m(\u001b[0m\u001b[0mpresence_q\u001b[0m\u001b[0;34m)\u001b[0m\u001b[0;34m\u001b[0m\u001b[0;34m\u001b[0m\u001b[0m\n\u001b[1;32m     47\u001b[0m     \u001b[0mpresence_qz_logits\u001b[0m\u001b[0;34m.\u001b[0m\u001b[0mappend\u001b[0m\u001b[0;34m(\u001b[0m\u001b[0mpresence_q_logit\u001b[0m\u001b[0;34m)\u001b[0m\u001b[0;34m\u001b[0m\u001b[0;34m\u001b[0m\u001b[0m\n\u001b[0;32m---> 48\u001b[0;31m     \u001b[0msimilarieties\u001b[0m\u001b[0;34m.\u001b[0m\u001b[0mappend\u001b[0m\u001b[0;34m(\u001b[0m\u001b[0msimilarity\u001b[0m\u001b[0;34m)\u001b[0m\u001b[0;34m\u001b[0m\u001b[0;34m\u001b[0m\u001b[0m\n\u001b[0m\u001b[1;32m     49\u001b[0m     \u001b[0mpresence_mats\u001b[0m\u001b[0;34m.\u001b[0m\u001b[0mappend\u001b[0m\u001b[0;34m(\u001b[0m\u001b[0mpresence_mat\u001b[0m\u001b[0;34m)\u001b[0m\u001b[0;34m\u001b[0m\u001b[0;34m\u001b[0m\u001b[0m\n\u001b[1;32m     50\u001b[0m \u001b[0;34m\u001b[0m\u001b[0m\n",
      "\u001b[0;31mNameError\u001b[0m: name 'similarieties' is not defined"
     ]
    }
   ],
   "source": [
    "#@title Classify an example and get the attention mats\n",
    "# Restore and translate!\n",
    "def classify(inputs):\n",
    "  encoded_inputs = encode(inputs)\n",
    "  model_output = imdb_model.infer(encoded_inputs)[\"outputs\"]\n",
    "  return model_output.numpy()\n",
    "\n",
    "inputs = \"My cat\"\n",
    "outputs = classify(inputs)\n",
    "\n",
    "print(\"Inputs: %s\" % inputs)\n",
    "print(\"Outputs: %s\" % outputs)\n",
    "\n",
    "assignment_weights, assignment_logits, weights, logits, presence_qz, presence_qz_logits = get_att_mats()"
   ]
  },
  {
   "cell_type": "code",
   "execution_count": 7,
   "metadata": {},
   "outputs": [
    {
     "name": "stdout",
     "output_type": "stream",
     "text": [
      "Layer number: 0\n"
     ]
    },
    {
     "data": {
      "image/png": "[encoded data removed]",
      "text/plain": [
       "<Figure size 432x288 with 2 Axes>"
      ]
     },
     "metadata": {
      "needs_background": "light"
     },
     "output_type": "display_data"
    },
    {
     "name": "stdout",
     "output_type": "stream",
     "text": [
      "Layer number: 1\n"
     ]
    },
    {
     "data": {
      "image/png": "[encoded data removed]",
      "text/plain": [
       "<Figure size 432x288 with 2 Axes>"
      ]
     },
     "metadata": {
      "needs_background": "light"
     },
     "output_type": "display_data"
    },
    {
     "name": "stdout",
     "output_type": "stream",
     "text": [
      "Layer number: 2\n"
     ]
    },
    {
     "data": {
      "image/png": "[encoded data removed]",
      "text/plain": [
       "<Figure size 432x288 with 2 Axes>"
      ]
     },
     "metadata": {
      "needs_background": "light"
     },
     "output_type": "display_data"
    },
    {
     "name": "stdout",
     "output_type": "stream",
     "text": [
      "Layer number: 3\n"
     ]
    },
    {
     "data": {
      "image/png": "[encoded data removed]",
      "text/plain": [
       "<Figure size 432x288 with 2 Axes>"
      ]
     },
     "metadata": {
      "needs_background": "light"
     },
     "output_type": "display_data"
    },
    {
     "name": "stdout",
     "output_type": "stream",
     "text": [
      "Layer number: 4\n"
     ]
    },
    {
     "data": {
      "image/png": "[encoded data removed]",
      "text/plain": [
       "<Figure size 432x288 with 2 Axes>"
      ]
     },
     "metadata": {
      "needs_background": "light"
     },
     "output_type": "display_data"
    },
    {
     "name": "stdout",
     "output_type": "stream",
     "text": [
      "Layer number: 5\n"
     ]
    },
    {
     "data": {
      "image/png": "[encoded data removed]",
      "text/plain": [
       "<Figure size 432x288 with 2 Axes>"
      ]
     },
     "metadata": {
      "needs_background": "light"
     },
     "output_type": "display_data"
    }
   ],
   "source": [
    "#@title Encoder attention at different layers\n",
    "\n",
    "attention_mat = assignment_logits\n",
    "\n",
    "import matplotlib.pyplot as plt\n",
    "import matplotlib.image as mpimg\n",
    "%matplotlib inline  \n",
    "\n",
    "\n",
    "for layer in np.arange(len(attention_mat)):\n",
    "  print(\"Layer number: %d\" %layer)\n",
    "  axes = {}\n",
    "  for head in np.arange(1,hparams.num_heads+1):\n",
    "    axes[head] = plt.subplot(1,hparams.num_heads*2,head)\n",
    "    im = axes[head].imshow(assignment_logits[layer][0][head-1],cmap=plt.cm.binary, vmin=0, vmax=1)\n",
    "  for head in np.arange(1,hparams.num_heads+1):\n",
    "    axes[head] = plt.subplot(1,hparams.num_heads*2,hparams.num_heads+head)\n",
    "    im = axes[head].imshow(assignment_weights[layer][0][head-1],cmap=plt.cm.binary, vmin=0, vmax=1)\n",
    "    \n",
    "  plt.show()"
   ]
  },
  {
   "cell_type": "code",
   "execution_count": 10,
   "metadata": {},
   "outputs": [
    {
     "name": "stdout",
     "output_type": "stream",
     "text": [
      "Layer number: 0\n"
     ]
    },
    {
     "data": {
      "image/png": "[encoded data removed]",
      "text/plain": [
       "<Figure size 432x288 with 1 Axes>"
      ]
     },
     "metadata": {
      "needs_background": "light"
     },
     "output_type": "display_data"
    },
    {
     "name": "stdout",
     "output_type": "stream",
     "text": [
      "Layer number: 1\n"
     ]
    },
    {
     "data": {
      "image/png": "[encoded data removed]",
      "text/plain": [
       "<Figure size 432x288 with 1 Axes>"
      ]
     },
     "metadata": {
      "needs_background": "light"
     },
     "output_type": "display_data"
    },
    {
     "name": "stdout",
     "output_type": "stream",
     "text": [
      "Layer number: 2\n"
     ]
    },
    {
     "data": {
      "image/png": "[encoded data removed]",
      "text/plain": [
       "<Figure size 432x288 with 1 Axes>"
      ]
     },
     "metadata": {
      "needs_background": "light"
     },
     "output_type": "display_data"
    },
    {
     "name": "stdout",
     "output_type": "stream",
     "text": [
      "Layer number: 3\n"
     ]
    },
    {
     "data": {
      "image/png": "[encoded data removed]",
      "text/plain": [
       "<Figure size 432x288 with 1 Axes>"
      ]
     },
     "metadata": {
      "needs_background": "light"
     },
     "output_type": "display_data"
    },
    {
     "name": "stdout",
     "output_type": "stream",
     "text": [
      "Layer number: 4\n"
     ]
    },
    {
     "data": {
      "image/png": "[encoded data removed]",
      "text/plain": [
       "<Figure size 432x288 with 1 Axes>"
      ]
     },
     "metadata": {
      "needs_background": "light"
     },
     "output_type": "display_data"
    },
    {
     "name": "stdout",
     "output_type": "stream",
     "text": [
      "Layer number: 5\n"
     ]
    },
    {
     "data": {
      "image/png": "[encoded data removed]",
      "text/plain": [
       "<Figure size 432x288 with 1 Axes>"
      ]
     },
     "metadata": {
      "needs_background": "light"
     },
     "output_type": "display_data"
    }
   ],
   "source": [
    "#@title Encoder attention at different layers\n",
    "\n",
    "attention_mat = assignment_logits\n",
    "\n",
    "import matplotlib.pyplot as plt\n",
    "import matplotlib.image as mpimg\n",
    "%matplotlib inline  \n",
    "\n",
    "\n",
    "for layer in np.arange(len(attention_mat)):\n",
    "  print(\"Layer number: %d\" %layer)\n",
    "  axes = {}\n",
    "  for head in np.arange(1,hparams.num_heads+1):\n",
    "    axes[head] = plt.subplot(1,4,head)\n",
    "    im = axes[head].imshow(attention_mat[layer][0][head-1],cmap=plt.cm.binary, vmin=0, vmax=1)\n",
    "  plt.show()"
   ]
  },
  {
   "cell_type": "code",
   "execution_count": 8,
   "metadata": {},
   "outputs": [
    {
     "name": "stdout",
     "output_type": "stream",
     "text": [
      "3.886704e-08\n",
      "0.9964252\n",
      "-0.13968702\n",
      "[0.00550813 0.00306298 0.03622847 0.13604619 0.05189808 0.02357316\n",
      " 0.5895176  0.00570448 0.00139182 0.01718022 0.11904822 0.00316502\n",
      " 0.00572762 0.00194798]\n",
      "[0.09562276 0.08100527 0.13121183 0.15576045 0.14329235 0.12124237\n",
      " 0.17032366 0.10014489 0.08604803 0.12336177 0.1443412  0.10530853\n",
      " 0.11161044 0.09871799]\n",
      "[0.00550813 0.00306298 0.03622847 0.1360462  0.05189809 0.02357316\n",
      " 0.58951765 0.00570448 0.00139182 0.01718023 0.11904823 0.00316502\n",
      " 0.00572762 0.00194798]\n",
      "1.0000000692671165\n",
      "(1, 14)\n",
      "[[ 8.780198  16.251287  11.4432     5.9096537  7.7074184  5.9354506\n",
      "   8.588876   7.6582527  7.366041   8.825566   6.3113127  6.947709\n",
      "   4.032813   6.2422214]]\n"
     ]
    }
   ],
   "source": [
    "\n",
    "from scipy.special import *\n",
    "\n",
    "def softmax_arr(x, T=0.1):\n",
    "    return np.exp(x/T)/sum(np.exp(x/T))\n",
    "\n",
    "print(np.min(weights[0]))\n",
    "print(np.max(weights[0]))\n",
    "\n",
    "assignment_logits_arr = np.asarray(assignment_logits)\n",
    "assign_weights_ = softmax(assignment_logits_arr,axis=-3)\n",
    "assign_weights_arr = np.asarray(assignment_weights)\n",
    "\n",
    "print(assignment_logits_arr[0,0,0,0,0])\n",
    "print(softmax_arr(assignment_logits_arr[0,0,0,:,0]))\n",
    "print(assign_weights_[0,0,0,:,0])\n",
    "print(assign_weights_arr[0,0,0,:,0])\n",
    "print(sum(assign_weights_arr[0,0,0,:,0]))\n",
    "\n",
    "weights_arr = np.asarray(weights)\n",
    "#print(weights_arr[0].shape)\n",
    "#print(weights_arr[0,0,0,0,:])\n",
    "aggregate_weights_over_heads = np.sum(weights_arr[0], axis=1)\n",
    "#print(aggregate_weights_over_heads)\n",
    "total_assigned_weight_per_q = np.sum(aggregate_weights_over_heads, axis=-1)\n",
    "\n",
    "print(total_assigned_weight_per_q.shape)\n",
    "print(total_assigned_weight_per_q)\n",
    "\n",
    "#print(np.asarray(presence_qz_logits).shape)\n",
    "#print(np.asarray(presence_qz_logits))"
   ]
  },
  {
   "cell_type": "code",
   "execution_count": 11,
   "metadata": {},
   "outputs": [
    {
     "data": {
      "image/png": "[encoded data removed]",
      "text/plain": [
       "<Figure size 432x288 with 2 Axes>"
      ]
     },
     "metadata": {
      "needs_background": "light"
     },
     "output_type": "display_data"
    },
    {
     "data": {
      "image/png": "[encoded data removed]",
      "text/plain": [
       "<Figure size 432x288 with 2 Axes>"
      ]
     },
     "metadata": {
      "needs_background": "light"
     },
     "output_type": "display_data"
    }
   ],
   "source": [
    "#@title Encoder presence prob at different layers\n",
    "\n",
    "import matplotlib.pyplot as plt\n",
    "import matplotlib.image as mpimg\n",
    "%matplotlib inline  \n",
    "\n",
    "\n",
    "plt.imshow(presence_qz_logits[:,0], cmap=plt.cm.binary)\n",
    "plt.colorbar()\n",
    "plt.show()\n",
    "\n",
    "plt.imshow(presence_qz[:,0], cmap=plt.cm.binary)\n",
    "plt.colorbar()\n",
    "plt.show()"
   ]
  },
  {
   "cell_type": "code",
   "execution_count": 13,
   "metadata": {},
   "outputs": [
    {
     "name": "stdout",
     "output_type": "stream",
     "text": [
      "Layer number: 0\n"
     ]
    },
    {
     "data": {
      "image/png": "[encoded data removed]",
      "text/plain": [
       "<Figure size 432x288 with 4 Axes>"
      ]
     },
     "metadata": {
      "needs_background": "light"
     },
     "output_type": "display_data"
    },
    {
     "name": "stdout",
     "output_type": "stream",
     "text": [
      "Layer number: 1\n"
     ]
    },
    {
     "data": {
      "image/png": "[encoded data removed]",
      "text/plain": [
       "<Figure size 432x288 with 4 Axes>"
      ]
     },
     "metadata": {
      "needs_background": "light"
     },
     "output_type": "display_data"
    },
    {
     "name": "stdout",
     "output_type": "stream",
     "text": [
      "Layer number: 2\n"
     ]
    },
    {
     "data": {
      "image/png": "[encoded data removed]",
      "text/plain": [
       "<Figure size 432x288 with 4 Axes>"
      ]
     },
     "metadata": {
      "needs_background": "light"
     },
     "output_type": "display_data"
    },
    {
     "name": "stdout",
     "output_type": "stream",
     "text": [
      "Layer number: 3\n"
     ]
    },
    {
     "data": {
      "image/png": "[encoded data removed]",
      "text/plain": [
       "<Figure size 432x288 with 4 Axes>"
      ]
     },
     "metadata": {
      "needs_background": "light"
     },
     "output_type": "display_data"
    },
    {
     "name": "stdout",
     "output_type": "stream",
     "text": [
      "Layer number: 4\n"
     ]
    },
    {
     "data": {
      "image/png": "[encoded data removed]",
      "text/plain": [
       "<Figure size 432x288 with 4 Axes>"
      ]
     },
     "metadata": {
      "needs_background": "light"
     },
     "output_type": "display_data"
    },
    {
     "name": "stdout",
     "output_type": "stream",
     "text": [
      "Layer number: 5\n"
     ]
    },
    {
     "data": {
      "image/png": "[encoded data removed]",
      "text/plain": [
       "<Figure size 432x288 with 4 Axes>"
      ]
     },
     "metadata": {
      "needs_background": "light"
     },
     "output_type": "display_data"
    }
   ],
   "source": [
    "#@title Encoder assignment logits\n",
    "\n",
    "attention_mat = weights\n",
    "\n",
    "import matplotlib.pyplot as plt\n",
    "import matplotlib.image as mpimg\n",
    "%matplotlib inline  \n",
    "\n",
    "\n",
    "for layer in np.arange(len(attention_mat)):\n",
    "  print(\"Layer number: %d\" %layer)\n",
    "  axes = {}\n",
    "  for head in np.arange(1,5):\n",
    "    axes[head] = plt.subplot(1,4,head)\n",
    "    im = axes[head].imshow(attention_mat[layer][0][head],cmap=plt.cm.binary, vmin=0, vmax=1)\n",
    "  plt.show()"
   ]
  },
  {
   "cell_type": "code",
   "execution_count": 11,
   "metadata": {},
   "outputs": [
    {
     "name": "stdout",
     "output_type": "stream",
     "text": [
      "Layer number: 0\n"
     ]
    },
    {
     "data": {
      "image/png": "[encoded data removed]",
      "text/plain": [
       "<Figure size 432x288 with 4 Axes>"
      ]
     },
     "metadata": {
      "needs_background": "light"
     },
     "output_type": "display_data"
    },
    {
     "name": "stdout",
     "output_type": "stream",
     "text": [
      "Layer number: 1\n"
     ]
    },
    {
     "data": {
      "image/png": "[encoded data removed]",
      "text/plain": [
       "<Figure size 432x288 with 4 Axes>"
      ]
     },
     "metadata": {
      "needs_background": "light"
     },
     "output_type": "display_data"
    },
    {
     "name": "stdout",
     "output_type": "stream",
     "text": [
      "Layer number: 2\n"
     ]
    },
    {
     "data": {
      "image/png": "[encoded data removed]",
      "text/plain": [
       "<Figure size 432x288 with 4 Axes>"
      ]
     },
     "metadata": {
      "needs_background": "light"
     },
     "output_type": "display_data"
    },
    {
     "name": "stdout",
     "output_type": "stream",
     "text": [
      "Layer number: 3\n"
     ]
    },
    {
     "data": {
      "image/png": "[encoded data removed]",
      "text/plain": [
       "<Figure size 432x288 with 4 Axes>"
      ]
     },
     "metadata": {
      "needs_background": "light"
     },
     "output_type": "display_data"
    },
    {
     "name": "stdout",
     "output_type": "stream",
     "text": [
      "Layer number: 4\n"
     ]
    },
    {
     "data": {
      "image/png": "[encoded data removed]",
      "text/plain": [
       "<Figure size 432x288 with 4 Axes>"
      ]
     },
     "metadata": {
      "needs_background": "light"
     },
     "output_type": "display_data"
    },
    {
     "name": "stdout",
     "output_type": "stream",
     "text": [
      "Layer number: 5\n"
     ]
    },
    {
     "data": {
      "image/png": "[encoded data removed]",
      "text/plain": [
       "<Figure size 432x288 with 4 Axes>"
      ]
     },
     "metadata": {
      "needs_background": "light"
     },
     "output_type": "display_data"
    }
   ],
   "source": [
    "#@title Encoder assignment logits\n",
    "\n",
    "attention_mat = weights\n",
    "\n",
    "import matplotlib.pyplot as plt\n",
    "import matplotlib.image as mpimg\n",
    "%matplotlib inline  \n",
    "\n",
    "\n",
    "for layer in np.arange(len(attention_mat)):\n",
    "  print(\"Layer number: %d\" %layer)\n",
    "  axes = {}\n",
    "  for head in np.arange(1,5):\n",
    "    axes[head] = plt.subplot(1,4,head)\n",
    "    im = axes[head].imshow(attention_mat[layer][0][1],cmap=plt.cm.binary, vmin=0, vmax=1)\n",
    "  plt.show()"
   ]
  },
  {
   "cell_type": "code",
   "execution_count": 35,
   "metadata": {},
   "outputs": [
    {
     "name": "stdout",
     "output_type": "stream",
     "text": [
      "(1, 3, 1)\n"
     ]
    }
   ],
   "source": [
    "a_logits = tf.constant([\n",
    "            [[[1,1,1],\n",
    "              [1,1,1],\n",
    "              [1,1,1]],\n",
    "             [[1,1,1],\n",
    "              [1,1,1],\n",
    "              [1,1,1]]\n",
    "            ]])\n",
    "presence_q = tf.constant([[[1],[0],[0]]])\n",
    "print(presence_q.shape)\n",
    "_p = tf.tile(tf.expand_dims(presence_q, axis=1),\n",
    "                      [1, 2, 1, 3])"
   ]
  },
  {
   "cell_type": "code",
   "execution_count": 36,
   "metadata": {},
   "outputs": [
    {
     "name": "stdout",
     "output_type": "stream",
     "text": [
      "tf.Tensor(\n",
      "[[[1]\n",
      "  [0]\n",
      "  [0]]], shape=(1, 3, 1), dtype=int32)\n",
      "tf.Tensor(\n",
      "[[[[1 1 1]\n",
      "   [0 0 0]\n",
      "   [0 0 0]]\n",
      "\n",
      "  [[1 1 1]\n",
      "   [0 0 0]\n",
      "   [0 0 0]]]], shape=(1, 2, 3, 3), dtype=int32)\n",
      "tf.Tensor(\n",
      "[[[[1 1 1]\n",
      "   [1 1 1]\n",
      "   [1 1 1]]\n",
      "\n",
      "  [[1 1 1]\n",
      "   [1 1 1]\n",
      "   [1 1 1]]]], shape=(1, 2, 3, 3), dtype=int32)\n"
     ]
    }
   ],
   "source": [
    "print(presence_q)\n",
    "print(_p)\n",
    "print(a_logits)"
   ]
  },
  {
   "cell_type": "code",
   "execution_count": 37,
   "metadata": {},
   "outputs": [
    {
     "name": "stdout",
     "output_type": "stream",
     "text": [
      "tf.Tensor(\n",
      "[[[[1 1 1]\n",
      "   [0 0 0]\n",
      "   [0 0 0]]\n",
      "\n",
      "  [[1 1 1]\n",
      "   [0 0 0]\n",
      "   [0 0 0]]]], shape=(1, 2, 3, 3), dtype=int32)\n"
     ]
    }
   ],
   "source": [
    "print(a_logits * _p)"
   ]
  },
  {
   "cell_type": "code",
   "execution_count": null,
   "metadata": {},
   "outputs": [],
   "source": []
  }
 ],
 "metadata": {
  "kernelspec": {
   "display_name": "Python 3",
   "language": "python",
   "name": "python3"
  },
  "language_info": {
   "codemirror_mode": {
    "name": "ipython",
    "version": 3
   },
   "file_extension": ".py",
   "mimetype": "text/x-python",
   "name": "python",
   "nbconvert_exporter": "python",
   "pygments_lexer": "ipython3",
   "version": "3.7.3"
  }
 },
 "nbformat": 4,
 "nbformat_minor": 2
}
